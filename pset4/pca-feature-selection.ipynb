{
 "cells": [
  {
   "cell_type": "code",
   "execution_count": 6,
   "metadata": {
    "collapsed": true
   },
   "outputs": [],
   "source": [
    "import numpy as np\n",
    "import sys\n",
    "sys.path.insert(0, '/Users/trimcao/Dropbox/Richardson/Fall-2017/cs6375-ml-ruozzi/solution/lib')\n",
    "sys.path.insert(0, '/home/trimcao/Dropbox/Richardson/Fall-2017/cs6375-ml-ruozzi/solution/lib')\n",
    "import importlib as imp\n",
    "# using reload to avoid having to restart the Python kernel after modifying source code\n",
    "import NaiveBayes; imp.reload(NaiveBayes)\n",
    "from NaiveBayes import GaussianNB"
   ]
  },
  {
   "cell_type": "code",
   "execution_count": 7,
   "metadata": {
    "collapsed": true
   },
   "outputs": [],
   "source": [
    "def read_in(file_path):\n",
    "    X = []\n",
    "    y = []\n",
    "    with open(file_path, 'r') as f:\n",
    "        for line in f:\n",
    "            info = line.strip('\\n').split(',')\n",
    "            # label is the first column\n",
    "            X.append([float(i) for i in info[:-1]])\n",
    "            y.append(float(info[-1]))\n",
    "    X = np.array(X)\n",
    "    y = np.array(y)\n",
    "    # change the output to *-1 and 1* instead of *0 and 1*\n",
    "    y[y == 0] = -1\n",
    "    return X, y"
   ]
  },
  {
   "cell_type": "code",
   "execution_count": 8,
   "metadata": {
    "collapsed": true
   },
   "outputs": [],
   "source": [
    "X_train, y_train = read_in('hw4_data/spam_train.data')\n",
    "X_test, y_test = read_in('hw4_data/spam_test.data')\n",
    "X_valid, y_valid = read_in('hw4_data/spam_validation.data')"
   ]
  },
  {
   "cell_type": "code",
   "execution_count": 9,
   "metadata": {
    "collapsed": true
   },
   "outputs": [],
   "source": [
    "def normalize_data(X, X_train):\n",
    "    X_norm = X - X_train.mean(axis=0)\n",
    "    X_norm = X_norm / X_train.std(axis=0)\n",
    "    return X_norm"
   ]
  },
  {
   "cell_type": "markdown",
   "metadata": {},
   "source": [
    "### Gaussian Naive Bayes"
   ]
  },
  {
   "cell_type": "code",
   "execution_count": 25,
   "metadata": {},
   "outputs": [
    {
     "name": "stdout",
     "output_type": "stream",
     "text": [
      "0.595505617978\n",
      "0.404494382022\n"
     ]
    }
   ],
   "source": [
    "clf = GaussianNB()\n",
    "clf.fit(X_train, y_train)\n",
    "preds = clf.predict(X_test)\n",
    "print(np.mean(preds==y_test))\n",
    "print(1-np.mean(preds==y_test))"
   ]
  },
  {
   "cell_type": "markdown",
   "metadata": {},
   "source": [
    "### PCA as feature selection"
   ]
  },
  {
   "cell_type": "code",
   "execution_count": 11,
   "metadata": {
    "collapsed": true
   },
   "outputs": [],
   "source": [
    "# construct the W matrix with zero mean\n",
    "W = normalize_data(X_train, X_train)\n",
    "W_test = normalize_data(X_test, X_train)"
   ]
  },
  {
   "cell_type": "code",
   "execution_count": 12,
   "metadata": {
    "collapsed": true
   },
   "outputs": [],
   "source": [
    "k = 10\n",
    "s = 10\n",
    "D = X_train.shape[1]"
   ]
  },
  {
   "cell_type": "code",
   "execution_count": 13,
   "metadata": {
    "collapsed": true
   },
   "outputs": [],
   "source": [
    "cov_mat = np.cov(W.T)"
   ]
  },
  {
   "cell_type": "code",
   "execution_count": 14,
   "metadata": {
    "collapsed": true
   },
   "outputs": [],
   "source": [
    "eig_vals, eig_vecs = np.linalg.eigh(cov_mat)\n",
    "idx = eig_vals.argsort()[::-1]   \n",
    "eig_vals = eig_vals[idx]\n",
    "eig_vecs = eig_vecs[:,idx]"
   ]
  },
  {
   "cell_type": "code",
   "execution_count": 15,
   "metadata": {},
   "outputs": [
    {
     "name": "stdout",
     "output_type": "stream",
     "text": [
      "[ 6.67647395  3.26013288  2.25116837  1.84721798  1.63959314  1.59257407\n",
      "  1.51572868  1.41980701  1.40200761  1.30402369]\n"
     ]
    }
   ],
   "source": [
    "print(eig_vals[:k])"
   ]
  },
  {
   "cell_type": "code",
   "execution_count": 16,
   "metadata": {
    "collapsed": true
   },
   "outputs": [],
   "source": [
    "top_vecs = eig_vecs[:k]"
   ]
  },
  {
   "cell_type": "code",
   "execution_count": 17,
   "metadata": {},
   "outputs": [
    {
     "name": "stdout",
     "output_type": "stream",
     "text": [
      "(10, 57)\n"
     ]
    }
   ],
   "source": [
    "print(top_vecs.shape)"
   ]
  },
  {
   "cell_type": "code",
   "execution_count": 18,
   "metadata": {
    "collapsed": true
   },
   "outputs": [],
   "source": [
    "# feature distribution, aka Pi\n",
    "feature_dist = np.sum(top_vecs**2, axis=0) / k"
   ]
  },
  {
   "cell_type": "code",
   "execution_count": 19,
   "metadata": {},
   "outputs": [
    {
     "data": {
      "text/plain": [
       "1.0000000000000004"
      ]
     },
     "execution_count": 19,
     "metadata": {},
     "output_type": "execute_result"
    }
   ],
   "source": [
    "np.sum(feature_dist)"
   ]
  },
  {
   "cell_type": "code",
   "execution_count": 20,
   "metadata": {},
   "outputs": [
    {
     "data": {
      "text/plain": [
       "array([13, 32, 36, 35, 19, 46, 10, 40, 13,  7])"
      ]
     },
     "execution_count": 20,
     "metadata": {},
     "output_type": "execute_result"
    }
   ],
   "source": [
    "features = np.random.choice(D, s, p=feature_dist)\n",
    "features"
   ]
  },
  {
   "cell_type": "code",
   "execution_count": 21,
   "metadata": {},
   "outputs": [
    {
     "data": {
      "text/plain": [
       "array([ 7, 10, 13, 19, 32, 35, 36, 40, 46])"
      ]
     },
     "execution_count": 21,
     "metadata": {},
     "output_type": "execute_result"
    }
   ],
   "source": [
    "features = np.unique(features)\n",
    "features"
   ]
  },
  {
   "cell_type": "code",
   "execution_count": 22,
   "metadata": {
    "collapsed": true
   },
   "outputs": [],
   "source": [
    "def feature_select(k, s, eig_vals, eig_vecs):\n",
    "    \"\"\"\n",
    "    Select s features using the top k eigenvectors.\n",
    "    eig_vals and eig_vecs must be sorted.\n",
    "    Return an array of features indices.\n",
    "    \"\"\"\n",
    "    idx = eig_vals.argsort()[::-1]   \n",
    "    eig_vals = eig_vals[idx]\n",
    "    eig_vecs = eig_vecs[:,idx]\n",
    "    top_vecs = eig_vecs[:k]\n",
    "    feature_dist = np.sum(top_vecs**2, axis=0) / k\n",
    "    # sample s features using np.random.choice\n",
    "    features = np.random.choice(D, s, p=feature_dist)\n",
    "    # get the unique feature indices\n",
    "    features = np.unique(features)\n",
    "    return features"
   ]
  },
  {
   "cell_type": "code",
   "execution_count": 24,
   "metadata": {},
   "outputs": [
    {
     "name": "stdout",
     "output_type": "stream",
     "text": [
      "k = 1, s = 1: average error is 0.656529338327\n",
      "k = 1, s = 2: average error is 0.733620474407\n",
      "k = 1, s = 3: average error is 0.745605493134\n",
      "k = 1, s = 4: average error is 0.775855181024\n",
      "k = 1, s = 5: average error is 0.784719101124\n",
      "k = 1, s = 6: average error is 0.77606741573\n",
      "k = 1, s = 7: average error is 0.798888888889\n",
      "k = 1, s = 8: average error is 0.741061173533\n",
      "k = 1, s = 9: average error is 0.773870162297\n",
      "k = 1, s = 10: average error is 0.785193508115\n",
      "k = 1, s = 11: average error is 0.780074906367\n",
      "k = 1, s = 12: average error is 0.774806491885\n",
      "k = 1, s = 13: average error is 0.755855181024\n",
      "k = 1, s = 14: average error is 0.752172284644\n",
      "k = 1, s = 15: average error is 0.74759051186\n",
      "k = 1, s = 16: average error is 0.726679151061\n",
      "k = 1, s = 17: average error is 0.732297128589\n",
      "k = 1, s = 18: average error is 0.743732833958\n",
      "k = 1, s = 19: average error is 0.718963795256\n",
      "k = 1, s = 20: average error is 0.730998751561\n",
      "k = 2, s = 1: average error is 0.593995006242\n",
      "k = 2, s = 2: average error is 0.676042446941\n",
      "k = 2, s = 3: average error is 0.712384519351\n",
      "k = 2, s = 4: average error is 0.728639200999\n",
      "k = 2, s = 5: average error is 0.777627965044\n",
      "k = 2, s = 6: average error is 0.756991260924\n",
      "k = 2, s = 7: average error is 0.762946317104\n",
      "k = 2, s = 8: average error is 0.712808988764\n",
      "k = 2, s = 9: average error is 0.763508114856\n",
      "k = 2, s = 10: average error is 0.737528089888\n",
      "k = 2, s = 11: average error is 0.721760299625\n",
      "k = 2, s = 12: average error is 0.756192259675\n",
      "k = 2, s = 13: average error is 0.765917602996\n",
      "k = 2, s = 14: average error is 0.728451935081\n",
      "k = 2, s = 15: average error is 0.716167290886\n",
      "k = 2, s = 16: average error is 0.736292134831\n",
      "k = 2, s = 17: average error is 0.73961298377\n",
      "k = 2, s = 18: average error is 0.7277278402\n",
      "k = 2, s = 19: average error is 0.747465667915\n",
      "k = 2, s = 20: average error is 0.698339575531\n",
      "k = 3, s = 1: average error is 0.613183520599\n",
      "k = 3, s = 2: average error is 0.663320848939\n",
      "k = 3, s = 3: average error is 0.657153558052\n",
      "k = 3, s = 4: average error is 0.692259675406\n",
      "k = 3, s = 5: average error is 0.674769038702\n",
      "k = 3, s = 6: average error is 0.697166042447\n",
      "k = 3, s = 7: average error is 0.754556803995\n",
      "k = 3, s = 8: average error is 0.751186017478\n",
      "k = 3, s = 9: average error is 0.742459425718\n",
      "k = 3, s = 10: average error is 0.701123595506\n",
      "k = 3, s = 11: average error is 0.700012484395\n",
      "k = 3, s = 12: average error is 0.726741573034\n",
      "k = 3, s = 13: average error is 0.707116104869\n",
      "k = 3, s = 14: average error is 0.715393258427\n",
      "k = 3, s = 15: average error is 0.712534332085\n",
      "k = 3, s = 16: average error is 0.698426966292\n",
      "k = 3, s = 17: average error is 0.688764044944\n",
      "k = 3, s = 18: average error is 0.706242197253\n",
      "k = 3, s = 19: average error is 0.69290886392\n",
      "k = 3, s = 20: average error is 0.706716604245\n",
      "k = 4, s = 1: average error is 0.583982521848\n",
      "k = 4, s = 2: average error is 0.592858926342\n",
      "k = 4, s = 3: average error is 0.539950062422\n",
      "k = 4, s = 4: average error is 0.583558052434\n",
      "k = 4, s = 5: average error is 0.591335830212\n",
      "k = 4, s = 6: average error is 0.625742821473\n",
      "k = 4, s = 7: average error is 0.623233458177\n",
      "k = 4, s = 8: average error is 0.613370786517\n",
      "k = 4, s = 9: average error is 0.670274656679\n",
      "k = 4, s = 10: average error is 0.627128589263\n",
      "k = 4, s = 11: average error is 0.607752808989\n",
      "k = 4, s = 12: average error is 0.634519350811\n",
      "k = 4, s = 13: average error is 0.664893882647\n",
      "k = 4, s = 14: average error is 0.630761548065\n",
      "k = 4, s = 15: average error is 0.642696629213\n",
      "k = 4, s = 16: average error is 0.704619225968\n",
      "k = 4, s = 17: average error is 0.645593008739\n",
      "k = 4, s = 18: average error is 0.642234706617\n",
      "k = 4, s = 19: average error is 0.624644194757\n",
      "k = 4, s = 20: average error is 0.656192259675\n",
      "k = 5, s = 1: average error is 0.592234706617\n",
      "k = 5, s = 2: average error is 0.663782771536\n",
      "k = 5, s = 3: average error is 0.627528089888\n",
      "k = 5, s = 4: average error is 0.578813982522\n",
      "k = 5, s = 5: average error is 0.629887640449\n",
      "k = 5, s = 6: average error is 0.676654182272\n",
      "k = 5, s = 7: average error is 0.6565917603\n",
      "k = 5, s = 8: average error is 0.662933832709\n",
      "k = 5, s = 9: average error is 0.689687890137\n",
      "k = 5, s = 10: average error is 0.662047440699\n",
      "k = 5, s = 11: average error is 0.640861423221\n",
      "k = 5, s = 12: average error is 0.635942571785\n",
      "k = 5, s = 13: average error is 0.680536828964\n",
      "k = 5, s = 14: average error is 0.647740324594\n",
      "k = 5, s = 15: average error is 0.672958801498\n",
      "k = 5, s = 16: average error is 0.704456928839\n",
      "k = 5, s = 17: average error is 0.673870162297\n",
      "k = 5, s = 18: average error is 0.706779026217\n",
      "k = 5, s = 19: average error is 0.666766541823\n",
      "k = 5, s = 20: average error is 0.675268414482\n",
      "k = 6, s = 1: average error is 0.646042446941\n",
      "k = 6, s = 2: average error is 0.60911360799\n",
      "k = 6, s = 3: average error is 0.622122347066\n",
      "k = 6, s = 4: average error is 0.662983770287\n",
      "k = 6, s = 5: average error is 0.691373283396\n",
      "k = 6, s = 6: average error is 0.693395755306\n",
      "k = 6, s = 7: average error is 0.597852684145\n",
      "k = 6, s = 8: average error is 0.668751560549\n",
      "k = 6, s = 9: average error is 0.722596754057\n",
      "k = 6, s = 10: average error is 0.68747815231\n",
      "k = 6, s = 11: average error is 0.686803995006\n",
      "k = 6, s = 12: average error is 0.662858926342\n",
      "k = 6, s = 13: average error is 0.68720349563\n",
      "k = 6, s = 14: average error is 0.685330836454\n",
      "k = 6, s = 15: average error is 0.699962546816\n",
      "k = 6, s = 16: average error is 0.669600499376\n",
      "k = 6, s = 17: average error is 0.669126092385\n",
      "k = 6, s = 18: average error is 0.667952559301\n",
      "k = 6, s = 19: average error is 0.676529338327\n",
      "k = 6, s = 20: average error is 0.705443196005\n",
      "k = 7, s = 1: average error is 0.641960049938\n",
      "k = 7, s = 2: average error is 0.662484394507\n",
      "k = 7, s = 3: average error is 0.542097378277\n",
      "k = 7, s = 4: average error is 0.65975031211\n",
      "k = 7, s = 5: average error is 0.688601747815\n",
      "k = 7, s = 6: average error is 0.633283395755\n",
      "k = 7, s = 7: average error is 0.643645443196\n",
      "k = 7, s = 8: average error is 0.715642946317\n",
      "k = 7, s = 9: average error is 0.709213483146\n",
      "k = 7, s = 10: average error is 0.665630461923\n",
      "k = 7, s = 11: average error is 0.677927590512\n",
      "k = 7, s = 12: average error is 0.717415730337\n",
      "k = 7, s = 13: average error is 0.698951310861\n",
      "k = 7, s = 14: average error is 0.66493133583\n",
      "k = 7, s = 15: average error is 0.724943820225\n",
      "k = 7, s = 16: average error is 0.629275905119\n",
      "k = 7, s = 17: average error is 0.710724094881\n",
      "k = 7, s = 18: average error is 0.710049937578\n",
      "k = 7, s = 19: average error is 0.696392009988\n",
      "k = 7, s = 20: average error is 0.7\n",
      "k = 8, s = 1: average error is 0.568264669164\n",
      "k = 8, s = 2: average error is 0.671697877653\n",
      "k = 8, s = 3: average error is 0.617128589263\n",
      "k = 8, s = 4: average error is 0.679325842697\n",
      "k = 8, s = 5: average error is 0.686691635456\n",
      "k = 8, s = 6: average error is 0.730037453184\n",
      "k = 8, s = 7: average error is 0.648277153558\n",
      "k = 8, s = 8: average error is 0.698501872659\n",
      "k = 8, s = 9: average error is 0.706928838951\n",
      "k = 8, s = 10: average error is 0.700112359551\n",
      "k = 8, s = 11: average error is 0.726516853933\n",
      "k = 8, s = 12: average error is 0.716654182272\n",
      "k = 8, s = 13: average error is 0.707415730337\n",
      "k = 8, s = 14: average error is 0.716754057428\n",
      "k = 8, s = 15: average error is 0.698002496879\n",
      "k = 8, s = 16: average error is 0.70695380774\n",
      "k = 8, s = 17: average error is 0.691111111111\n",
      "k = 8, s = 18: average error is 0.693732833958\n",
      "k = 8, s = 19: average error is 0.666304619226\n",
      "k = 8, s = 20: average error is 0.665692883895\n",
      "k = 9, s = 1: average error is 0.643657927591\n",
      "k = 9, s = 2: average error is 0.705205992509\n",
      "k = 9, s = 3: average error is 0.702808988764\n",
      "k = 9, s = 4: average error is 0.687128589263\n",
      "k = 9, s = 5: average error is 0.673133583021\n",
      "k = 9, s = 6: average error is 0.687702871411\n",
      "k = 9, s = 7: average error is 0.738776529338\n",
      "k = 9, s = 8: average error is 0.743445692884\n",
      "k = 9, s = 9: average error is 0.717278401998\n",
      "k = 9, s = 10: average error is 0.751672908864\n",
      "k = 9, s = 11: average error is 0.73695380774\n",
      "k = 9, s = 12: average error is 0.682833957553\n",
      "k = 9, s = 13: average error is 0.700848938826\n",
      "k = 9, s = 14: average error is 0.731073657928\n",
      "k = 9, s = 15: average error is 0.720474406991\n",
      "k = 9, s = 16: average error is 0.69304619226\n",
      "k = 9, s = 17: average error is 0.700449438202\n"
     ]
    },
    {
     "name": "stdout",
     "output_type": "stream",
     "text": [
      "k = 9, s = 18: average error is 0.713632958801\n",
      "k = 9, s = 19: average error is 0.718202247191\n",
      "k = 9, s = 20: average error is 0.673133583021\n",
      "k = 10, s = 1: average error is 0.585468164794\n",
      "k = 10, s = 2: average error is 0.695555555556\n",
      "k = 10, s = 3: average error is 0.766254681648\n",
      "k = 10, s = 4: average error is 0.687852684145\n",
      "k = 10, s = 5: average error is 0.717141073658\n",
      "k = 10, s = 6: average error is 0.666279650437\n",
      "k = 10, s = 7: average error is 0.669413233458\n",
      "k = 10, s = 8: average error is 0.726716604245\n",
      "k = 10, s = 9: average error is 0.677041198502\n",
      "k = 10, s = 10: average error is 0.706516853933\n",
      "k = 10, s = 11: average error is 0.743283395755\n",
      "k = 10, s = 12: average error is 0.727540574282\n",
      "k = 10, s = 13: average error is 0.697640449438\n",
      "k = 10, s = 14: average error is 0.694731585518\n",
      "k = 10, s = 15: average error is 0.697353308365\n",
      "k = 10, s = 16: average error is 0.720362047441\n",
      "k = 10, s = 17: average error is 0.698764044944\n",
      "k = 10, s = 18: average error is 0.707016229713\n",
      "k = 10, s = 19: average error is 0.660461922597\n",
      "k = 10, s = 20: average error is 0.693121098627\n"
     ]
    }
   ],
   "source": [
    "for k in range(1,11):\n",
    "    for s in range(1,21):\n",
    "        error = 0\n",
    "        for _ in range(100):\n",
    "            features = feature_select(k,s,eig_vals,eig_vecs)\n",
    "            clf = GaussianNB()\n",
    "            clf.fit(W[:,features], y_train)\n",
    "            preds = clf.predict(W_test[:,features])\n",
    "            error += 1 - np.mean(preds==y_test)\n",
    "        ave_error = error/100\n",
    "        print('k = ' + str(k) + ', s = ' + str(s) + ': average error is ' +\n",
    "                 str(ave_error))"
   ]
  },
  {
   "cell_type": "code",
   "execution_count": null,
   "metadata": {},
   "outputs": [],
   "source": [
    "features = feature_select(k,s,eig_vals,eig_vecs)\n",
    "X_choice = X_train[:,features]\n",
    "clf = GaussianNB()\n",
    "clf.fit(X_choice, y_train)\n",
    "preds = clf.predict(X_test[:,features])\n",
    "print(np.mean(preds==y_test))"
   ]
  },
  {
   "cell_type": "markdown",
   "metadata": {},
   "source": [
    "Best k/s pair: k = 5, s = 1: average error is 0.440599250936\n",
    "\n",
    "Disadvantages:\n",
    "- Hard to choose k and s beforehand, and it takes a lot of time to do grid search"
   ]
  },
  {
   "cell_type": "code",
   "execution_count": null,
   "metadata": {
    "collapsed": true
   },
   "outputs": [],
   "source": []
  }
 ],
 "metadata": {
  "kernelspec": {
   "display_name": "Python 3",
   "language": "python",
   "name": "python3"
  },
  "language_info": {
   "codemirror_mode": {
    "name": "ipython",
    "version": 3
   },
   "file_extension": ".py",
   "mimetype": "text/x-python",
   "name": "python",
   "nbconvert_exporter": "python",
   "pygments_lexer": "ipython3",
   "version": "3.6.2"
  }
 },
 "nbformat": 4,
 "nbformat_minor": 2
}
