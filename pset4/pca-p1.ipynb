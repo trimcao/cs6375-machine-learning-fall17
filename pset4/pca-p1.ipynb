{
 "cells": [
  {
   "cell_type": "code",
   "execution_count": 1,
   "metadata": {
    "collapsed": true
   },
   "outputs": [],
   "source": [
    "import numpy as np"
   ]
  },
  {
   "cell_type": "markdown",
   "metadata": {},
   "source": [
    "### Read the data"
   ]
  },
  {
   "cell_type": "code",
   "execution_count": 2,
   "metadata": {
    "collapsed": true
   },
   "outputs": [],
   "source": [
    "def read_in(file_path):\n",
    "    X = []\n",
    "    y = []\n",
    "    with open(file_path, 'r') as f:\n",
    "        for line in f:\n",
    "            info = line.strip('\\n').split(',')\n",
    "            # label is the first column\n",
    "            X.append([float(i) for i in info[:-1]])\n",
    "            y.append(float(info[-1]))\n",
    "    X = np.array(X)\n",
    "    y = np.array(y)\n",
    "    # change the output to *-1 and 1* instead of *0 and 1*\n",
    "    y[y == 0] = -1\n",
    "    return X, y"
   ]
  },
  {
   "cell_type": "code",
   "execution_count": 3,
   "metadata": {
    "collapsed": true
   },
   "outputs": [],
   "source": [
    "X_train, y_train = read_in('hw4_data/spam_train.data')\n",
    "X_test, y_test = read_in('hw4_data/spam_test.data')\n",
    "X_valid, y_valid = read_in('hw4_data/spam_validation.data')"
   ]
  },
  {
   "cell_type": "code",
   "execution_count": 4,
   "metadata": {},
   "outputs": [
    {
     "name": "stdout",
     "output_type": "stream",
     "text": [
      "(57,)\n"
     ]
    }
   ],
   "source": [
    "print(X_train[2].shape)"
   ]
  },
  {
   "cell_type": "code",
   "execution_count": 5,
   "metadata": {},
   "outputs": [
    {
     "name": "stdout",
     "output_type": "stream",
     "text": [
      "[ 1.  1.  1. ..., -1. -1. -1.]\n"
     ]
    }
   ],
   "source": [
    "print(y_train)"
   ]
  },
  {
   "cell_type": "markdown",
   "metadata": {},
   "source": [
    "### Find the Principal Components"
   ]
  },
  {
   "cell_type": "code",
   "execution_count": 6,
   "metadata": {
    "collapsed": true
   },
   "outputs": [],
   "source": [
    "def normalize_data(X, X_train):\n",
    "    X_norm = X - X_train.mean(axis=0)\n",
    "    X_norm = X_norm / X_train.std(axis=0)\n",
    "    return X_norm"
   ]
  },
  {
   "cell_type": "code",
   "execution_count": 7,
   "metadata": {
    "collapsed": true
   },
   "outputs": [],
   "source": [
    "# construct the W matrix with zero mean\n",
    "W = normalize_data(X_train, X_train)\n",
    "W_valid = normalize_data(X_valid, X_train)\n",
    "W_test = normalize_data(X_test, X_train)"
   ]
  },
  {
   "cell_type": "code",
   "execution_count": 8,
   "metadata": {
    "collapsed": true
   },
   "outputs": [],
   "source": [
    "# use SVD to find the eigenvectors\n",
    "u,s,v = np.linalg.svd(W.T)"
   ]
  },
  {
   "cell_type": "code",
   "execution_count": 9,
   "metadata": {},
   "outputs": [
    {
     "data": {
      "text/plain": [
       "(57, 57)"
      ]
     },
     "execution_count": 9,
     "metadata": {},
     "output_type": "execute_result"
    }
   ],
   "source": [
    "u.shape"
   ]
  },
  {
   "cell_type": "code",
   "execution_count": 10,
   "metadata": {
    "collapsed": true
   },
   "outputs": [],
   "source": [
    "# choose the top k eigenvectors\n",
    "U = u[:,:6]"
   ]
  },
  {
   "cell_type": "code",
   "execution_count": 11,
   "metadata": {},
   "outputs": [
    {
     "data": {
      "text/plain": [
       "(57, 6)"
      ]
     },
     "execution_count": 11,
     "metadata": {},
     "output_type": "execute_result"
    }
   ],
   "source": [
    "U.shape"
   ]
  },
  {
   "cell_type": "code",
   "execution_count": 12,
   "metadata": {
    "collapsed": true
   },
   "outputs": [],
   "source": [
    "# transform data\n",
    "X_tran = W.dot(U)"
   ]
  },
  {
   "cell_type": "code",
   "execution_count": 13,
   "metadata": {},
   "outputs": [
    {
     "data": {
      "text/plain": [
       "array([ 1.13787505, -1.52833793, -0.16534567, -0.15784105,  0.35479145,\n",
       "       -0.28510092])"
      ]
     },
     "execution_count": 13,
     "metadata": {},
     "output_type": "execute_result"
    }
   ],
   "source": [
    "X_tran[1]"
   ]
  },
  {
   "cell_type": "markdown",
   "metadata": {},
   "source": [
    "### PCA using covariance matrix"
   ]
  },
  {
   "cell_type": "code",
   "execution_count": 16,
   "metadata": {
    "collapsed": true
   },
   "outputs": [],
   "source": [
    "# construct the W matrix with zero mean and unit variance\n",
    "W = normalize_data(X_train, X_train)"
   ]
  },
  {
   "cell_type": "code",
   "execution_count": 17,
   "metadata": {},
   "outputs": [
    {
     "data": {
      "text/plain": [
       "(57, 57)"
      ]
     },
     "execution_count": 17,
     "metadata": {},
     "output_type": "execute_result"
    }
   ],
   "source": [
    "cov_mat = np.cov(W.T)\n",
    "cov_mat.shape"
   ]
  },
  {
   "cell_type": "code",
   "execution_count": 18,
   "metadata": {
    "collapsed": true
   },
   "outputs": [],
   "source": [
    "# cov_mat = W.dot(W.T)"
   ]
  },
  {
   "cell_type": "code",
   "execution_count": 19,
   "metadata": {
    "collapsed": true
   },
   "outputs": [],
   "source": [
    "# eig_vals, eig_vecs = np.linalg.eig(cov_mat)\n",
    "eig_vals, eig_vecs = np.linalg.eigh(cov_mat)"
   ]
  },
  {
   "cell_type": "code",
   "execution_count": 20,
   "metadata": {},
   "outputs": [
    {
     "data": {
      "text/plain": [
       "(57,)"
      ]
     },
     "execution_count": 20,
     "metadata": {},
     "output_type": "execute_result"
    }
   ],
   "source": [
    "eig_vals.shape"
   ]
  },
  {
   "cell_type": "code",
   "execution_count": 21,
   "metadata": {},
   "outputs": [
    {
     "data": {
      "text/plain": [
       "(57, 57)"
      ]
     },
     "execution_count": 21,
     "metadata": {},
     "output_type": "execute_result"
    }
   ],
   "source": [
    "eig_vecs.shape"
   ]
  },
  {
   "cell_type": "code",
   "execution_count": 22,
   "metadata": {},
   "outputs": [
    {
     "name": "stdout",
     "output_type": "stream",
     "text": [
      "[ 0.00819714  0.12715707  0.14992838  0.20664016  0.21192009  0.30467746\n",
      "  0.33500951  0.35544926  0.39232605  0.42174014  0.44831298  0.5392283\n",
      "  0.55391231  0.56939916  0.58346395  0.63172972  0.63971963  0.66932111\n",
      "  0.68527664  0.70649048  0.7125208   0.72509491  0.74551225  0.76626027\n",
      "  0.81660999  0.82424393  0.82612169  0.84271298  0.85213603  0.86027004\n",
      "  0.89324831  0.9110594   0.93073701  0.95236598  0.97023288  0.98137667\n",
      "  0.994403    1.00235114  1.00683272  1.02783985  1.05525217  1.05954896\n",
      "  1.08962648  1.12274881  1.13823278  1.2281143   1.23492607  1.30402369\n",
      "  1.40200761  1.41980701  1.51572868  1.59257407  1.63959314  1.84721798\n",
      "  2.25116837  3.26013288  6.67647395]\n"
     ]
    }
   ],
   "source": [
    "print(eig_vals)"
   ]
  },
  {
   "cell_type": "code",
   "execution_count": 23,
   "metadata": {
    "collapsed": true
   },
   "outputs": [],
   "source": [
    "# sort eigenvalues and eigenvectors\n",
    "idx = eig_vals.argsort()[::-1]   \n",
    "eig_vals = eig_vals[idx]\n",
    "eig_vecs = eig_vecs[:,idx]"
   ]
  },
  {
   "cell_type": "code",
   "execution_count": 24,
   "metadata": {},
   "outputs": [
    {
     "name": "stdout",
     "output_type": "stream",
     "text": [
      "[ 6.67647395  3.26013288  2.25116837  1.84721798  1.63959314  1.59257407\n",
      "  1.51572868  1.41980701  1.40200761  1.30402369  1.23492607  1.2281143\n",
      "  1.13823278  1.12274881  1.08962648  1.05954896  1.05525217  1.02783985\n",
      "  1.00683272  1.00235114  0.994403    0.98137667  0.97023288  0.95236598\n",
      "  0.93073701  0.9110594   0.89324831  0.86027004  0.85213603  0.84271298\n",
      "  0.82612169  0.82424393  0.81660999  0.76626027  0.74551225  0.72509491\n",
      "  0.7125208   0.70649048  0.68527664  0.66932111  0.63971963  0.63172972\n",
      "  0.58346395  0.56939916  0.55391231  0.5392283   0.44831298  0.42174014\n",
      "  0.39232605  0.35544926  0.33500951  0.30467746  0.21192009  0.20664016\n",
      "  0.14992838  0.12715707  0.00819714]\n"
     ]
    }
   ],
   "source": [
    "print(eig_vals)"
   ]
  },
  {
   "cell_type": "code",
   "execution_count": 25,
   "metadata": {},
   "outputs": [
    {
     "data": {
      "text/plain": [
       "(57, 6)"
      ]
     },
     "execution_count": 25,
     "metadata": {},
     "output_type": "execute_result"
    }
   ],
   "source": [
    "U = eig_vecs[:,:6]\n",
    "U.shape"
   ]
  },
  {
   "cell_type": "code",
   "execution_count": 26,
   "metadata": {},
   "outputs": [
    {
     "data": {
      "text/plain": [
       "(3000, 57)"
      ]
     },
     "execution_count": 26,
     "metadata": {},
     "output_type": "execute_result"
    }
   ],
   "source": [
    "W.shape"
   ]
  },
  {
   "cell_type": "code",
   "execution_count": 27,
   "metadata": {
    "collapsed": true
   },
   "outputs": [],
   "source": [
    "# transform data\n",
    "X_tran = W.dot(U)"
   ]
  },
  {
   "cell_type": "code",
   "execution_count": 28,
   "metadata": {},
   "outputs": [
    {
     "data": {
      "text/plain": [
       "array([-1.13787505,  1.52833793, -0.16534567, -0.15784105,  0.35479145,\n",
       "       -0.28510092])"
      ]
     },
     "execution_count": 28,
     "metadata": {},
     "output_type": "execute_result"
    }
   ],
   "source": [
    "X_tran[1]"
   ]
  },
  {
   "cell_type": "markdown",
   "metadata": {},
   "source": [
    "### Test using sklearn"
   ]
  },
  {
   "cell_type": "code",
   "execution_count": 49,
   "metadata": {
    "collapsed": true
   },
   "outputs": [],
   "source": [
    "# construct the W matrix with zero mean and unit variance\n",
    "W = normalize_data(X_train, X_train)"
   ]
  },
  {
   "cell_type": "code",
   "execution_count": 50,
   "metadata": {
    "collapsed": true
   },
   "outputs": [],
   "source": [
    "from sklearn import decomposition\n",
    "pca = decomposition.PCA(n_components=6)\n",
    "X_sk = pca.fit_transform(W)"
   ]
  },
  {
   "cell_type": "code",
   "execution_count": 51,
   "metadata": {},
   "outputs": [
    {
     "data": {
      "text/plain": [
       "(3000, 6)"
      ]
     },
     "execution_count": 51,
     "metadata": {},
     "output_type": "execute_result"
    }
   ],
   "source": [
    "X_sk.shape"
   ]
  },
  {
   "cell_type": "code",
   "execution_count": 52,
   "metadata": {},
   "outputs": [
    {
     "data": {
      "text/plain": [
       "array([-1.13755467,  1.53115676,  0.18911439,  0.14812845, -0.08693231,\n",
       "       -0.23795884])"
      ]
     },
     "execution_count": 52,
     "metadata": {},
     "output_type": "execute_result"
    }
   ],
   "source": [
    "X_sk[1]"
   ]
  },
  {
   "cell_type": "markdown",
   "metadata": {},
   "source": [
    "### Train SVM classifiers using PCA"
   ]
  },
  {
   "cell_type": "code",
   "execution_count": 14,
   "metadata": {
    "collapsed": true
   },
   "outputs": [],
   "source": [
    "from sklearn.svm import LinearSVC"
   ]
  },
  {
   "cell_type": "code",
   "execution_count": 54,
   "metadata": {},
   "outputs": [
    {
     "name": "stdout",
     "output_type": "stream",
     "text": [
      "For k = 1 and c = 1, valid error is 0.32125\n",
      "For k = 1 and c = 10, valid error is 0.31875\n",
      "For k = 1 and c = 100, valid error is 0.32125\n",
      "For k = 1 and c = 1000, valid error is 0.0225\n",
      "For k = 2 and c = 1, valid error is 0.16875\n",
      "For k = 2 and c = 10, valid error is 0.16875\n",
      "For k = 2 and c = 100, valid error is 0.17875\n",
      "For k = 2 and c = 1000, valid error is 0.13\n",
      "For k = 3 and c = 1, valid error is 0.17875\n",
      "For k = 3 and c = 10, valid error is 0.17875\n",
      "For k = 3 and c = 100, valid error is 0.1425\n",
      "For k = 3 and c = 1000, valid error is 0.36375\n",
      "For k = 4 and c = 1, valid error is 0.17875\n",
      "For k = 4 and c = 10, valid error is 0.17625\n",
      "For k = 4 and c = 100, valid error is 0.2275\n",
      "For k = 4 and c = 1000, valid error is 0.46375\n",
      "For k = 5 and c = 1, valid error is 0.18125\n",
      "For k = 5 and c = 10, valid error is 0.18125\n",
      "For k = 5 and c = 100, valid error is 0.1675\n",
      "For k = 5 and c = 1000, valid error is 0.15875\n"
     ]
    }
   ],
   "source": [
    "for k in range(1,6):\n",
    "    for c in [1, 10, 100, 1000]:      \n",
    "        U = eig_vecs[:,:k]\n",
    "        X_tran = W.dot(U)\n",
    "        clf = LinearSVC(C=c, random_state=0)\n",
    "        clf.fit(X_tran, y_train)\n",
    "        X_valid_tran = W_valid.dot(U)\n",
    "        preds = clf.predict(X_valid_tran)\n",
    "        error = 1 - np.mean(preds==y_valid)\n",
    "        print('For k = ' + str(k) + ' and c = ' + str(c) +\n",
    "                 ', valid error is ' + str(error))    "
   ]
  },
  {
   "cell_type": "code",
   "execution_count": 30,
   "metadata": {},
   "outputs": [
    {
     "name": "stdout",
     "output_type": "stream",
     "text": [
      "Using k = 1 and c = 1000, test error is 0.00499375780275\n"
     ]
    }
   ],
   "source": [
    "# best k/c pair is k=1, c=10\n",
    "# Note: accuracy changes randomly\n",
    "k = 1\n",
    "c = 1000\n",
    "U = eig_vecs[:,:k]\n",
    "X_tran = W.dot(U)\n",
    "clf = LinearSVC(C=c,random_state=0)\n",
    "clf.fit(X_tran, y_train)\n",
    "X_test_tran = W_test.dot(U)\n",
    "preds = clf.predict(X_test_tran)\n",
    "error = 1 - np.mean(preds==y_test)\n",
    "print('Using k = 1 and c = 1000, test error is ' + str(error))"
   ]
  },
  {
   "cell_type": "code",
   "execution_count": 34,
   "metadata": {},
   "outputs": [
    {
     "name": "stdout",
     "output_type": "stream",
     "text": [
      "Training SVM without PCA...\n",
      "For c = 1, valid error is 0.03125\n",
      "For c = 10, valid error is 0.16125\n",
      "For c = 100, valid error is 0.03125\n",
      "For c = 1000, valid error is 0.01125\n"
     ]
    }
   ],
   "source": [
    "# compare with the SVM without PCA\n",
    "print('Training SVM without PCA...')\n",
    "for c in [1, 10, 100, 1000]:\n",
    "    clf = LinearSVC(C=c, random_state=0)\n",
    "    clf.fit(X_train, y_train)\n",
    "    preds = clf.predict(X_valid)\n",
    "    error = 1 - np.mean(preds==y_valid)\n",
    "    print('For c = ' + str(c) +\n",
    "         ', valid error is ' + str(error))   "
   ]
  },
  {
   "cell_type": "code",
   "execution_count": 36,
   "metadata": {},
   "outputs": [
    {
     "name": "stdout",
     "output_type": "stream",
     "text": [
      "With c = 1000, test set error is 0.0387016229713\n"
     ]
    }
   ],
   "source": [
    "# best c = 1000\n",
    "c = 1000\n",
    "clf = LinearSVC(C=c, random_state=0)\n",
    "clf.fit(X_train, y_train)\n",
    "preds = clf.predict(X_test)\n",
    "error = 1 - np.mean(preds==y_test)\n",
    "print('With c = 1000, test set error is ' + str(error))"
   ]
  },
  {
   "cell_type": "markdown",
   "metadata": {
    "collapsed": true
   },
   "source": [
    "Getting better result with PCA!"
   ]
  },
  {
   "cell_type": "code",
   "execution_count": null,
   "metadata": {
    "collapsed": true
   },
   "outputs": [],
   "source": []
  }
 ],
 "metadata": {
  "kernelspec": {
   "display_name": "Python 3",
   "language": "python",
   "name": "python3"
  },
  "language_info": {
   "codemirror_mode": {
    "name": "ipython",
    "version": 3
   },
   "file_extension": ".py",
   "mimetype": "text/x-python",
   "name": "python",
   "nbconvert_exporter": "python",
   "pygments_lexer": "ipython3",
   "version": "3.6.2"
  }
 },
 "nbformat": 4,
 "nbformat_minor": 2
}
