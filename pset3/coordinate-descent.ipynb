{
 "cells": [
  {
   "cell_type": "code",
   "execution_count": 8,
   "metadata": {},
   "outputs": [],
   "source": [
    "import numpy as np\n",
    "import random\n",
    "import sys\n",
    "import pickle\n",
    "sys.path.insert(0, '/Users/trimcao/Dropbox/Richardson/Fall-2017/cs6375-ml-ruozzi/solution/lib')\n",
    "sys.path.insert(0, '/home/trimcao/Dropbox/Richardson/Fall-2017/cs6375-ml-ruozzi/solution/lib')\n",
    "from DecisionTree import Branch, DecisionTree, BoostedTree"
   ]
  },
  {
   "cell_type": "markdown",
   "metadata": {},
   "source": [
    "### Read in data"
   ]
  },
  {
   "cell_type": "code",
   "execution_count": 2,
   "metadata": {
    "collapsed": true
   },
   "outputs": [],
   "source": [
    "def read_in(file_path):\n",
    "    X = []\n",
    "    y = []\n",
    "    with open(file_path, 'r') as f:\n",
    "        for line in f:\n",
    "            info = line.strip('\\n').split(',')\n",
    "            X.append([int(i) for i in info[1:]])\n",
    "            y.append(int(info[0]))\n",
    "    X = np.array(X)\n",
    "    y = np.array(y)\n",
    "    # make the labels -1 and 1\n",
    "    y[y==0] = -1\n",
    "    return X, y"
   ]
  },
  {
   "cell_type": "code",
   "execution_count": 3,
   "metadata": {
    "collapsed": true
   },
   "outputs": [],
   "source": [
    "X, y = read_in('hw3_data/heart_train.data')"
   ]
  },
  {
   "cell_type": "code",
   "execution_count": 4,
   "metadata": {
    "collapsed": true
   },
   "outputs": [],
   "source": [
    "X_test, y_test = read_in('hw3_data/heart_test.data')"
   ]
  },
  {
   "cell_type": "code",
   "execution_count": 5,
   "metadata": {
    "collapsed": true
   },
   "outputs": [],
   "source": [
    "N = X.shape[0]"
   ]
  },
  {
   "cell_type": "markdown",
   "metadata": {},
   "source": [
    "### Preparation"
   ]
  },
  {
   "cell_type": "code",
   "execution_count": 6,
   "metadata": {
    "collapsed": true
   },
   "outputs": [],
   "source": [
    "# create 88 decision trees\n",
    "def gen_tree(attribute, X, y, weights=None):\n",
    "    \"\"\"\n",
    "    Generate trees with height = 1.\n",
    "               a\n",
    "             /   \\\n",
    "    \"\"\"\n",
    "    trees = []\n",
    "    for l1 in [-1, 1]:\n",
    "        for l2 in [-1, 1]:\n",
    "            # create a decision tree\n",
    "            tree = DecisionTree()\n",
    "            tree.labels = set(y)\n",
    "            root = Branch()\n",
    "            tree.tree = root\n",
    "            # split attribute 1\n",
    "            root.split_feature = attribute\n",
    "            # left branch of root\n",
    "            left = Branch()\n",
    "            left.predict = l1\n",
    "            root.children[0] = left\n",
    "            # right branch of root\n",
    "            right = Branch()\n",
    "            right.predict = l2\n",
    "            root.children[1] = right\n",
    "            # append tree to the list\n",
    "            trees.append(tree)\n",
    "    return trees"
   ]
  },
  {
   "cell_type": "markdown",
   "metadata": {},
   "source": [
    "### Coordinate Descent"
   ]
  },
  {
   "cell_type": "code",
   "execution_count": null,
   "metadata": {
    "collapsed": true
   },
   "outputs": [],
   "source": [
    "# build the trees\n",
    "num_feats = X.shape[1]\n",
    "trees = []\n",
    "for i in range(num_feats):\n",
    "    trees.extend(gen_tree(i, X, y))"
   ]
  },
  {
   "cell_type": "code",
   "execution_count": 9,
   "metadata": {
    "collapsed": true
   },
   "outputs": [],
   "source": [
    "# variables\n",
    "alpha = [0 for each in trees]\n",
    "r = [1 for each in trees]"
   ]
  },
  {
   "cell_type": "code",
   "execution_count": 10,
   "metadata": {
    "collapsed": true
   },
   "outputs": [],
   "source": [
    "# compute r\n",
    "def find_r(trees, alpha, x, y, k=-1):\n",
    "    \"\"\"\n",
    "    Compute exponential loss for one sample for every learner except k\n",
    "    (if k is not -1, i.e. k is not None).\n",
    "    Note: y is a single label, not a vector of label.\n",
    "    \"\"\"\n",
    "    num_trees = len(trees)\n",
    "    sum_predict = 0\n",
    "    for i in range(num_trees):\n",
    "        if i != k:\n",
    "            sum_predict += alpha[i]*trees[i].predict_single(x)\n",
    "    return np.exp(-y*sum_predict)"
   ]
  },
  {
   "cell_type": "code",
   "execution_count": 11,
   "metadata": {
    "collapsed": true
   },
   "outputs": [],
   "source": [
    "# compute exponential loss\n",
    "def exp_loss(trees, alpha, X, y):\n",
    "    loss = 0\n",
    "    for i in range(X.shape[0]):\n",
    "        loss += find_r(trees, alpha, X[i], y[i])\n",
    "    return loss"
   ]
  },
  {
   "cell_type": "code",
   "execution_count": 31,
   "metadata": {
    "collapsed": true
   },
   "outputs": [],
   "source": [
    "def predict_single(trees, alpha, x):\n",
    "    \"\"\"\n",
    "    Predict a single sample using trees.\n",
    "    \"\"\"\n",
    "    result = 0\n",
    "    for i in range(len(trees)):\n",
    "        result += alpha[i]*trees[i].predict_single(x)\n",
    "    if result >= 0:\n",
    "        return 1\n",
    "    else:\n",
    "        return -1"
   ]
  },
  {
   "cell_type": "code",
   "execution_count": 13,
   "metadata": {
    "collapsed": true
   },
   "outputs": [],
   "source": [
    "def update_alpha(t, trees, alpha, X, y):\n",
    "    \"\"\"\n",
    "    Update alpha of tree t.\n",
    "    \"\"\"\n",
    "    sum_correct = 0\n",
    "    sum_incorrect = 0 \n",
    "    for i in range(X.shape[0]):\n",
    "        r = find_r(trees, alpha, X[i], y[i], k=t)\n",
    "        pred = trees[t].predict_single(X[i])\n",
    "        if pred == y[i]:\n",
    "            sum_correct += r\n",
    "        else:\n",
    "            sum_incorrect += r\n",
    "    new_alpha = 0.5*np.log(sum_correct/sum_incorrect)\n",
    "    return new_alpha"
   ]
  },
  {
   "cell_type": "code",
   "execution_count": 21,
   "metadata": {
    "collapsed": true
   },
   "outputs": [],
   "source": [
    "def fit(trees, X, y, epoch=50):\n",
    "    \"\"\"\n",
    "    Method that trains a boosted tree using coordinate descent.\n",
    "    \"\"\"\n",
    "    alpha = [0 for each in trees]\n",
    "    num_trees = len(trees)\n",
    "    # 1 epoch = 1 loop over all trees\n",
    "    for e in range(epoch):\n",
    "        # just iterate over the trees with no special selection.\n",
    "        for t in range(num_trees):\n",
    "            # update alpha of t\n",
    "            alpha[t] = update_alpha(t, trees, alpha, X, y)\n",
    "        # display exponential loss\n",
    "        if e%20 == 0:\n",
    "            print('Epoch:', e+1)\n",
    "            print('Exponential loss =', exp_loss(trees, alpha, X, y))\n",
    "    return alpha"
   ]
  },
  {
   "cell_type": "code",
   "execution_count": 23,
   "metadata": {},
   "outputs": [
    {
     "name": "stdout",
     "output_type": "stream",
     "text": [
      "Epoch: 1\n",
      "Exponential loss = 60.2226183657\n",
      "Epoch: 21\n",
      "Exponential loss = 44.1653073215\n",
      "Epoch: 41\n",
      "Exponential loss = 42.3974947525\n",
      "Epoch: 61\n",
      "Exponential loss = 41.6312418853\n",
      "Epoch: 81\n",
      "Exponential loss = 41.1810394122\n",
      "Epoch: 101\n",
      "Exponential loss = 40.8789105319\n",
      "Epoch: 121\n",
      "Exponential loss = 40.6606100925\n",
      "Epoch: 141\n",
      "Exponential loss = 40.4951345183\n",
      "Epoch: 161\n",
      "Exponential loss = 40.365323985\n",
      "Epoch: 181\n",
      "Exponential loss = 40.2607971584\n",
      "Epoch: 201\n",
      "Exponential loss = 40.1748669339\n",
      "Epoch: 221\n",
      "Exponential loss = 40.1030180912\n",
      "Epoch: 241\n",
      "Exponential loss = 40.0420869764\n",
      "Epoch: 261\n",
      "Exponential loss = 39.9897893475\n",
      "Epoch: 281\n",
      "Exponential loss = 39.9444341985\n",
      "Epoch: 301\n",
      "Exponential loss = 39.9047428938\n",
      "Epoch: 321\n",
      "Exponential loss = 39.8697308175\n",
      "Epoch: 341\n",
      "Exponential loss = 39.8386276185\n",
      "Epoch: 361\n",
      "Exponential loss = 39.8108220887\n",
      "Epoch: 381\n",
      "Exponential loss = 39.7858232177\n",
      "Epoch: 401\n",
      "Exponential loss = 39.7632321398\n",
      "Epoch: 421\n",
      "Exponential loss = 39.7427215745\n",
      "Epoch: 441\n",
      "Exponential loss = 39.7240205265\n",
      "Epoch: 461\n",
      "Exponential loss = 39.7069027395\n",
      "Epoch: 481\n",
      "Exponential loss = 39.6911778737\n"
     ]
    }
   ],
   "source": [
    "# test \n",
    "alpha = fit(trees, X, y, epoch=500)"
   ]
  },
  {
   "cell_type": "code",
   "execution_count": 24,
   "metadata": {
    "collapsed": true
   },
   "outputs": [],
   "source": [
    "pickle.dump( alpha, open( \"alpha_coordinate.p\", \"wb\" ) )"
   ]
  },
  {
   "cell_type": "code",
   "execution_count": 33,
   "metadata": {
    "collapsed": true
   },
   "outputs": [],
   "source": [
    "# predict on test set\n",
    "def predict(trees, alpha, X):\n",
    "    preds = np.zeros(X.shape[0])\n",
    "    for i in range(X.shape[0]):\n",
    "        preds[i] = predict_single(trees, alpha, X[i])\n",
    "    return preds"
   ]
  },
  {
   "cell_type": "code",
   "execution_count": 34,
   "metadata": {},
   "outputs": [
    {
     "name": "stdout",
     "output_type": "stream",
     "text": [
      "0.700534759358\n"
     ]
    }
   ],
   "source": [
    "test_preds = predict(trees, alpha, X_test)\n",
    "print(np.mean(test_preds==y_test))"
   ]
  },
  {
   "cell_type": "markdown",
   "metadata": {},
   "source": [
    "### Compare with adaBoost "
   ]
  },
  {
   "cell_type": "code",
   "execution_count": 6,
   "metadata": {},
   "outputs": [
    {
     "name": "stdout",
     "output_type": "stream",
     "text": [
      "Iteration: 1\n",
      "Accuracy on train set: 0.725\n",
      "Accuracy on test set: 0.614973262032\n",
      "Iteration: 2\n",
      "Accuracy on train set: 0.725\n",
      "Accuracy on test set: 0.614973262032\n",
      "Iteration: 3\n",
      "Accuracy on train set: 0.7875\n",
      "Accuracy on test set: 0.711229946524\n",
      "Iteration: 4\n",
      "Accuracy on train set: 0.7625\n",
      "Accuracy on test set: 0.652406417112\n",
      "Iteration: 5\n",
      "Accuracy on train set: 0.7625\n",
      "Accuracy on test set: 0.652406417112\n",
      "Iteration: 6\n",
      "Accuracy on train set: 0.775\n",
      "Accuracy on test set: 0.663101604278\n",
      "Iteration: 7\n",
      "Accuracy on train set: 0.775\n",
      "Accuracy on test set: 0.663101604278\n",
      "Iteration: 8\n",
      "Accuracy on train set: 0.8125\n",
      "Accuracy on test set: 0.679144385027\n",
      "Iteration: 9\n",
      "Accuracy on train set: 0.8125\n",
      "Accuracy on test set: 0.679144385027\n",
      "Iteration: 10\n",
      "Accuracy on train set: 0.825\n",
      "Accuracy on test set: 0.695187165775\n",
      "Iteration: 11\n",
      "Accuracy on train set: 0.825\n",
      "Accuracy on test set: 0.72192513369\n",
      "Iteration: 12\n",
      "Accuracy on train set: 0.825\n",
      "Accuracy on test set: 0.711229946524\n",
      "Iteration: 13\n",
      "Accuracy on train set: 0.825\n",
      "Accuracy on test set: 0.711229946524\n",
      "Iteration: 14\n",
      "Accuracy on train set: 0.8125\n",
      "Accuracy on test set: 0.689839572193\n",
      "Iteration: 15\n",
      "Accuracy on train set: 0.825\n",
      "Accuracy on test set: 0.72192513369\n",
      "Iteration: 16\n",
      "Accuracy on train set: 0.8125\n",
      "Accuracy on test set: 0.700534759358\n",
      "Iteration: 17\n",
      "Accuracy on train set: 0.825\n",
      "Accuracy on test set: 0.705882352941\n",
      "Iteration: 18\n",
      "Accuracy on train set: 0.8125\n",
      "Accuracy on test set: 0.673796791444\n",
      "Iteration: 19\n",
      "Accuracy on train set: 0.825\n",
      "Accuracy on test set: 0.743315508021\n",
      "Iteration: 20\n",
      "Accuracy on train set: 0.8125\n",
      "Accuracy on test set: 0.668449197861\n"
     ]
    }
   ],
   "source": [
    "boost = BoostedTree(X, y, M=20)\n",
    "boost.fit_hw2(X, y, X_test, y_test)"
   ]
  },
  {
   "cell_type": "code",
   "execution_count": 12,
   "metadata": {
    "scrolled": true
   },
   "outputs": [
    {
     "name": "stdout",
     "output_type": "stream",
     "text": [
      "[0.48470027859405157, 0.23296515192905001, 0.30841915161660433, 0.26905996040337699, 0.12707489951194617, 0.1939136051934971, 0.16646581973436514, 0.20484093019665991, 0.11233780854211395, 0.16915310437537498, 0.12721184797605228, 0.15386377069176382, 0.098070542088112209, 0.15796706354327916, 0.13458519734012808, 0.13035666473731899, 0.10144574639261557, 0.12621641283923687, 0.10744964087976837, 0.11081674484994171]\n"
     ]
    }
   ],
   "source": [
    "print(boost.stages)"
   ]
  },
  {
   "cell_type": "code",
   "execution_count": 17,
   "metadata": {
    "collapsed": true
   },
   "outputs": [],
   "source": [
    "alpha = pickle.load( open( \"alpha_coordinate.p\", \"rb\" ) )"
   ]
  },
  {
   "cell_type": "code",
   "execution_count": 19,
   "metadata": {
    "scrolled": true
   },
   "outputs": [
    {
     "name": "stdout",
     "output_type": "stream",
     "text": [
      "[ True False  True False  True False  True False  True False  True False\n",
      "  True False  True False  True False  True False  True False  True False\n",
      "  True False  True False  True False  True False  True False  True False\n",
      "  True False  True False  True False  True False  True False  True False\n",
      "  True False  True False  True False  True False  True False  True False\n",
      "  True False  True False  True False  True False  True False  True False\n",
      "  True False  True False  True False  True False  True False  True False\n",
      "  True False  True False]\n"
     ]
    }
   ],
   "source": [
    "print(np.isclose(alpha,0))"
   ]
  },
  {
   "cell_type": "code",
   "execution_count": 20,
   "metadata": {},
   "outputs": [
    {
     "name": "stdout",
     "output_type": "stream",
     "text": [
      "[-1.0935696792557912e-14, -2.1113691460473563, -1.9262369477246838e-14, -0.76458219017592477, -6.7335026443520275e-14, -0.49233289336149083, -1.1934897514720575e-14, -0.41478204146804826, -4.6851411639183802e-14, -4.4058549874767028, -3.3140157285062021e-14, -2.8100377931850606, -1.056377207930948e-13, 0.80199150091920635, 2.9864999362415821e-14, 0.51902683511736547, -8.770761894538814e-15, 0.31751616799032567, -9.1593399531576251e-15, 0.14126530348945926, -9.9920072216264187e-16, 0.13729670511430384, -1.7652546091540301e-14, 0.10879826039253997, -3.2196467714129642e-15, 0.60814522507657842, 1.2212453270876572e-14, 0.32285429265169135, 6.6613381477509353e-16, 4.0254521840867517, 9.2148511043887141e-15, 2.6753260028212358, -3.3029134982599499e-14, -2.7467516857012848, -1.9761969838328178e-14, -2.0949377107361311, -8.6597395920769707e-14, 1.9790532209929785, 1.8762769116164792e-14, 0.75423913827232736, -7.9936057773011918e-15, 0.38770152892165788, 1.9984014443252778e-15, 0.25630175152301521, -1.1546319456101762e-14, -0.45342601994271953, -1.7652546091540301e-14, -0.27708210919745097, -1.4155343563970946e-14, 0.79465187123327019, 3.6193270602778791e-14, 0.38621757412151364, -1.5598633495983692e-14, 2.2178486052687294, 4.6407322429329391e-14, 1.6865758933185937, -1.4432899320127243e-14, 0.80381863455106028, -2.9420910152566735e-15, 0.78377131951636725, -2.3259172365897569e-14, 0.73211384804745416, 1.287858708565165e-14, 0.58802290490894404, -1.826316875508416e-14, 2.7541516963174804, 3.3528735343678604e-14, 2.6923103445677317, -5.12367925864536e-14, 1.9495549811561161, 2.1316282072802551e-14, 1.9301947096340337, -2.8310687127942293e-14, 0.051886045533894642, 1.8873791418627626e-15, 0.033996854832993903, -1.9428902930940279e-15, 0.31712314707677552, -5.8841820305133644e-15, 0.20902730258528862, -1.2878587085651982e-14, 0.16790786674865077, -1.3267165144270797e-14, 0.11582535600307206, -4.3853809472693873e-15, 0.36965135390512149, -3.3861802251067389e-15, 0.17122318052451824]\n"
     ]
    }
   ],
   "source": [
    "print(alpha)"
   ]
  },
  {
   "cell_type": "code",
   "execution_count": 18,
   "metadata": {},
   "outputs": [
    {
     "ename": "TypeError",
     "evalue": "only integer scalar arrays can be converted to a scalar index",
     "output_type": "error",
     "traceback": [
      "\u001b[0;31m---------------------------------------------------------------------------\u001b[0m",
      "\u001b[0;31mTypeError\u001b[0m                                 Traceback (most recent call last)",
      "\u001b[0;32m<ipython-input-18-52cd6375d6ae>\u001b[0m in \u001b[0;36m<module>\u001b[0;34m()\u001b[0m\n\u001b[0;32m----> 1\u001b[0;31m \u001b[0malpha\u001b[0m\u001b[0;34m[\u001b[0m\u001b[0mnp\u001b[0m\u001b[0;34m.\u001b[0m\u001b[0misclose\u001b[0m\u001b[0;34m(\u001b[0m\u001b[0malpha\u001b[0m\u001b[0;34m,\u001b[0m\u001b[0;36m0\u001b[0m\u001b[0;34m)\u001b[0m\u001b[0;34m]\u001b[0m \u001b[0;34m=\u001b[0m \u001b[0;36m0\u001b[0m\u001b[0;34m\u001b[0m\u001b[0m\n\u001b[0m\u001b[1;32m      2\u001b[0m \u001b[0mprint\u001b[0m\u001b[0;34m(\u001b[0m\u001b[0malpha\u001b[0m\u001b[0;34m)\u001b[0m\u001b[0;34m\u001b[0m\u001b[0m\n",
      "\u001b[0;31mTypeError\u001b[0m: only integer scalar arrays can be converted to a scalar index"
     ]
    }
   ],
   "source": [
    "alpha[np.isclose(alpha,0)] = 0\n",
    "print(alpha)"
   ]
  },
  {
   "cell_type": "code",
   "execution_count": 24,
   "metadata": {},
   "outputs": [
    {
     "name": "stdout",
     "output_type": "stream",
     "text": [
      "alpha 0 : 0\n",
      "alpha 1 : -2.11136914605\n",
      "alpha 2 : 0\n",
      "alpha 3 : -0.764582190176\n",
      "alpha 4 : 0\n",
      "alpha 5 : -0.492332893361\n",
      "alpha 6 : 0\n",
      "alpha 7 : -0.414782041468\n",
      "alpha 8 : 0\n",
      "alpha 9 : -4.40585498748\n",
      "alpha 10 : 0\n",
      "alpha 11 : -2.81003779319\n",
      "alpha 12 : 0\n",
      "alpha 13 : 0.801991500919\n",
      "alpha 14 : 0\n",
      "alpha 15 : 0.519026835117\n",
      "alpha 16 : 0\n",
      "alpha 17 : 0.31751616799\n",
      "alpha 18 : 0\n",
      "alpha 19 : 0.141265303489\n",
      "alpha 20 : 0\n",
      "alpha 21 : 0.137296705114\n",
      "alpha 22 : 0\n",
      "alpha 23 : 0.108798260393\n",
      "alpha 24 : 0\n",
      "alpha 25 : 0.608145225077\n",
      "alpha 26 : 0\n",
      "alpha 27 : 0.322854292652\n",
      "alpha 28 : 0\n",
      "alpha 29 : 4.02545218409\n",
      "alpha 30 : 0\n",
      "alpha 31 : 2.67532600282\n",
      "alpha 32 : 0\n",
      "alpha 33 : -2.7467516857\n",
      "alpha 34 : 0\n",
      "alpha 35 : -2.09493771074\n",
      "alpha 36 : 0\n",
      "alpha 37 : 1.97905322099\n",
      "alpha 38 : 0\n",
      "alpha 39 : 0.754239138272\n",
      "alpha 40 : 0\n",
      "alpha 41 : 0.387701528922\n",
      "alpha 42 : 0\n",
      "alpha 43 : 0.256301751523\n",
      "alpha 44 : 0\n",
      "alpha 45 : -0.453426019943\n",
      "alpha 46 : 0\n",
      "alpha 47 : -0.277082109197\n",
      "alpha 48 : 0\n",
      "alpha 49 : 0.794651871233\n",
      "alpha 50 : 0\n",
      "alpha 51 : 0.386217574122\n",
      "alpha 52 : 0\n",
      "alpha 53 : 2.21784860527\n",
      "alpha 54 : 0\n",
      "alpha 55 : 1.68657589332\n",
      "alpha 56 : 0\n",
      "alpha 57 : 0.803818634551\n",
      "alpha 58 : 0\n",
      "alpha 59 : 0.783771319516\n",
      "alpha 60 : 0\n",
      "alpha 61 : 0.732113848047\n",
      "alpha 62 : 0\n",
      "alpha 63 : 0.588022904909\n",
      "alpha 64 : 0\n",
      "alpha 65 : 2.75415169632\n",
      "alpha 66 : 0\n",
      "alpha 67 : 2.69231034457\n",
      "alpha 68 : 0\n",
      "alpha 69 : 1.94955498116\n",
      "alpha 70 : 0\n",
      "alpha 71 : 1.93019470963\n",
      "alpha 72 : 0\n",
      "alpha 73 : 0.0518860455339\n",
      "alpha 74 : 0\n",
      "alpha 75 : 0.033996854833\n",
      "alpha 76 : 0\n",
      "alpha 77 : 0.317123147077\n",
      "alpha 78 : 0\n",
      "alpha 79 : 0.209027302585\n",
      "alpha 80 : 0\n",
      "alpha 81 : 0.167907866749\n",
      "alpha 82 : 0\n",
      "alpha 83 : 0.115825356003\n",
      "alpha 84 : 0\n",
      "alpha 85 : 0.369651353905\n",
      "alpha 86 : 0\n",
      "alpha 87 : 0.171223180525\n"
     ]
    }
   ],
   "source": [
    "count = 0\n",
    "for i in range(len(alpha)):\n",
    "    if not np.isclose(alpha[i], 0):\n",
    "        print('alpha', i, '=', alpha[i])\n",
    "        count += 1\n",
    "    else:\n",
    "         print('alpha', i, '= 0')"
   ]
  },
  {
   "cell_type": "code",
   "execution_count": 14,
   "metadata": {},
   "outputs": [
    {
     "name": "stdout",
     "output_type": "stream",
     "text": [
      "44\n"
     ]
    }
   ],
   "source": [
    "print(count)"
   ]
  },
  {
   "cell_type": "code",
   "execution_count": null,
   "metadata": {
    "collapsed": true
   },
   "outputs": [],
   "source": []
  }
 ],
 "metadata": {
  "kernelspec": {
   "display_name": "Python 3",
   "language": "python",
   "name": "python3"
  },
  "language_info": {
   "codemirror_mode": {
    "name": "ipython",
    "version": 3
   },
   "file_extension": ".py",
   "mimetype": "text/x-python",
   "name": "python",
   "nbconvert_exporter": "python",
   "pygments_lexer": "ipython3",
   "version": "3.6.2"
  }
 },
 "nbformat": 4,
 "nbformat_minor": 2
}
