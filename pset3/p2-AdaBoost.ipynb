{
 "cells": [
  {
   "cell_type": "code",
   "execution_count": 1,
   "metadata": {
    "collapsed": true
   },
   "outputs": [],
   "source": [
    "import numpy as np\n",
    "import random\n",
    "import sys\n",
    "sys.path.insert(0, '/Users/trimcao/Dropbox/Richardson/Fall-2017/cs6375-ml-ruozzi/solution/lib')\n",
    "sys.path.insert(0, '/home/trimcao/Dropbox/Richardson/Fall-2017/cs6375-ml-ruozzi/solution/lib')\n",
    "from DecisionTree import DecisionTree, BoostedTree"
   ]
  },
  {
   "cell_type": "markdown",
   "metadata": {},
   "source": [
    "### Read in data"
   ]
  },
  {
   "cell_type": "code",
   "execution_count": 2,
   "metadata": {
    "collapsed": true
   },
   "outputs": [],
   "source": [
    "def read_in(file_path):\n",
    "    X = []\n",
    "    y = []\n",
    "    with open(file_path, 'r') as f:\n",
    "        for line in f:\n",
    "            info = line.strip('\\n').split(',')\n",
    "            X.append([int(i) for i in info[1:]])\n",
    "            y.append(int(info[0]))\n",
    "    X = np.array(X)\n",
    "    y = np.array(y)\n",
    "    # make the labels -1 and 1\n",
    "    y[y==0] = -1\n",
    "    return X, y"
   ]
  },
  {
   "cell_type": "code",
   "execution_count": 3,
   "metadata": {
    "collapsed": true
   },
   "outputs": [],
   "source": [
    "X, y = read_in('hw3_data/heart_train.data')"
   ]
  },
  {
   "cell_type": "code",
   "execution_count": 4,
   "metadata": {
    "collapsed": true
   },
   "outputs": [],
   "source": [
    "X_test, y_test = read_in('hw3_data/heart_test.data')"
   ]
  },
  {
   "cell_type": "code",
   "execution_count": 5,
   "metadata": {
    "collapsed": true
   },
   "outputs": [],
   "source": [
    "N = X.shape[0]\n",
    "weights = np.array([1/N for i in range(N)])"
   ]
  },
  {
   "cell_type": "code",
   "execution_count": 6,
   "metadata": {},
   "outputs": [
    {
     "name": "stdout",
     "output_type": "stream",
     "text": [
      "[0 0 0 1 0 0 0 1 1 0 0 0 1 1 0 0 0 0 0 0 0 0]\n"
     ]
    }
   ],
   "source": [
    "print(X[0])"
   ]
  },
  {
   "cell_type": "code",
   "execution_count": 7,
   "metadata": {
    "collapsed": true
   },
   "outputs": [],
   "source": [
    "boost = BoostedTree(X, y)"
   ]
  },
  {
   "cell_type": "code",
   "execution_count": 12,
   "metadata": {
    "collapsed": true
   },
   "outputs": [],
   "source": [
    "trees = boost.gen_tree5([10, 12, 14], X, y)"
   ]
  },
  {
   "cell_type": "code",
   "execution_count": 13,
   "metadata": {},
   "outputs": [
    {
     "name": "stdout",
     "output_type": "stream",
     "text": [
      "16\n",
      "0.5\n",
      "0.5\n",
      "0.5625\n",
      "0.5625\n",
      "0.5625\n",
      "0.5625\n",
      "0.625\n",
      "0.625\n",
      "0.375\n",
      "0.375\n",
      "0.4375\n",
      "0.4375\n",
      "0.4375\n",
      "0.4375\n",
      "0.5\n",
      "0.5\n"
     ]
    }
   ],
   "source": [
    "print(len(trees))\n",
    "for each in trees:\n",
    "    preds = each.predict(X)\n",
    "    print(np.mean(preds==y))"
   ]
  },
  {
   "cell_type": "markdown",
   "metadata": {},
   "source": [
    "### Test adaBoost"
   ]
  },
  {
   "cell_type": "code",
   "execution_count": 8,
   "metadata": {},
   "outputs": [
    {
     "name": "stdout",
     "output_type": "stream",
     "text": [
      "Iteration: 1\n",
      "Accuracy on train set: 0.8125\n",
      "Accuracy on test set: 0.75935828877\n",
      "Iteration: 2\n",
      "Accuracy on train set: 0.8125\n",
      "Accuracy on test set: 0.75935828877\n",
      "Iteration: 3\n",
      "Accuracy on train set: 0.8125\n",
      "Accuracy on test set: 0.818181818182\n"
     ]
    }
   ],
   "source": [
    "boost = BoostedTree(X, y, M=3)\n",
    "boost.fit_hw(X, y, X_test, y_test)"
   ]
  },
  {
   "cell_type": "code",
   "execution_count": 8,
   "metadata": {},
   "outputs": [
    {
     "name": "stdout",
     "output_type": "stream",
     "text": [
      "0.8125\n"
     ]
    }
   ],
   "source": [
    "preds = boost.predict(X)\n",
    "print(np.mean(preds==y))"
   ]
  },
  {
   "cell_type": "code",
   "execution_count": 9,
   "metadata": {},
   "outputs": [
    {
     "name": "stdout",
     "output_type": "stream",
     "text": [
      "0.818181818182\n"
     ]
    }
   ],
   "source": [
    "test_preds = boost.predict(X_test)\n",
    "print(np.mean(test_preds==y_test))"
   ]
  },
  {
   "cell_type": "code",
   "execution_count": 10,
   "metadata": {},
   "outputs": [
    {
     "name": "stdout",
     "output_type": "stream",
     "text": [
      "[0.73316853439671348, 0.49926441505556374, 0.33086549216328331]\n"
     ]
    }
   ],
   "source": [
    "print(boost.stages)"
   ]
  },
  {
   "cell_type": "code",
   "execution_count": 11,
   "metadata": {},
   "outputs": [
    {
     "name": "stdout",
     "output_type": "stream",
     "text": [
      "7\n",
      "10\n",
      "None\n",
      "1\n",
      "15\n",
      "None\n",
      "1\n",
      "-1\n",
      "1\n"
     ]
    }
   ],
   "source": [
    "tree1 = boost.trees[0].tree\n",
    "print(tree1.split_feature)\n",
    "print(tree1.children[0].split_feature)\n",
    "print(tree1.children[1].split_feature)\n",
    "print(tree1.children[1].predict)\n",
    "left = tree1.children[0]\n",
    "print(left.children[0].split_feature)\n",
    "print(left.children[1].split_feature)\n",
    "print(left.children[1].predict)\n",
    "left2 = left.children[0]\n",
    "print(left2.children[0].predict)\n",
    "print(left2.children[1].predict)"
   ]
  },
  {
   "cell_type": "code",
   "execution_count": 12,
   "metadata": {},
   "outputs": [
    {
     "name": "stdout",
     "output_type": "stream",
     "text": [
      "11\n",
      "19\n",
      "None\n",
      "1\n",
      "21\n",
      "None\n",
      "1\n",
      "-1\n",
      "1\n"
     ]
    }
   ],
   "source": [
    "tree = boost.trees[1].tree\n",
    "print(tree.split_feature)\n",
    "print(tree.children[0].split_feature)\n",
    "print(tree.children[1].split_feature)\n",
    "print(tree.children[1].predict)\n",
    "left = tree.children[0]\n",
    "print(left.children[0].split_feature)\n",
    "print(left.children[1].split_feature)\n",
    "print(left.children[1].predict)\n",
    "left2 = left.children[0]\n",
    "print(left2.children[0].predict)\n",
    "print(left2.children[1].predict)"
   ]
  },
  {
   "cell_type": "code",
   "execution_count": 13,
   "metadata": {},
   "outputs": [
    {
     "name": "stdout",
     "output_type": "stream",
     "text": [
      "12\n",
      "2\n",
      "None\n",
      "1\n",
      "21\n",
      "None\n",
      "-1\n",
      "1\n",
      "-1\n"
     ]
    }
   ],
   "source": [
    "tree = boost.trees[2].tree\n",
    "print(tree.split_feature)\n",
    "print(tree.children[0].split_feature)\n",
    "print(tree.children[1].split_feature)\n",
    "print(tree.children[1].predict)\n",
    "left = tree.children[0]\n",
    "print(left.children[0].split_feature)\n",
    "print(left.children[1].split_feature)\n",
    "print(left.children[1].predict)\n",
    "left2 = left.children[0]\n",
    "print(left2.children[0].predict)\n",
    "print(left2.children[1].predict)"
   ]
  },
  {
   "cell_type": "markdown",
   "metadata": {},
   "source": [
    "### adaBoost with M=10"
   ]
  },
  {
   "cell_type": "code",
   "execution_count": 14,
   "metadata": {},
   "outputs": [
    {
     "name": "stdout",
     "output_type": "stream",
     "text": [
      "Iteration: 1\n",
      "Accuracy on train set: 0.8125\n",
      "Accuracy on test set: 0.75935828877\n",
      "Iteration: 2\n",
      "Accuracy on train set: 0.8125\n",
      "Accuracy on test set: 0.75935828877\n",
      "Iteration: 3\n",
      "Accuracy on train set: 0.8125\n",
      "Accuracy on test set: 0.818181818182\n",
      "Iteration: 4\n",
      "Accuracy on train set: 0.875\n",
      "Accuracy on test set: 0.791443850267\n",
      "Iteration: 5\n",
      "Accuracy on train set: 0.8\n",
      "Accuracy on test set: 0.818181818182\n",
      "Iteration: 6\n",
      "Accuracy on train set: 0.9\n",
      "Accuracy on test set: 0.75935828877\n",
      "Iteration: 7\n",
      "Accuracy on train set: 0.9\n",
      "Accuracy on test set: 0.75935828877\n",
      "Iteration: 8\n",
      "Accuracy on train set: 0.9125\n",
      "Accuracy on test set: 0.754010695187\n",
      "Iteration: 9\n",
      "Accuracy on train set: 0.925\n",
      "Accuracy on test set: 0.732620320856\n",
      "Iteration: 10\n",
      "Accuracy on train set: 0.9125\n",
      "Accuracy on test set: 0.743315508021\n"
     ]
    }
   ],
   "source": [
    "boost = BoostedTree(X, y, M=10)\n",
    "boost.fit_hw(X, y, X_test, y_test)"
   ]
  },
  {
   "cell_type": "code",
   "execution_count": 15,
   "metadata": {},
   "outputs": [
    {
     "name": "stdout",
     "output_type": "stream",
     "text": [
      "[0.18750000000000003, 0.26923076923076916, 0.3403508771929824, 0.33719604863221897, 0.36971122376230831, 0.33136955688368658, 0.34394375957211726, 0.3472816724785559, 0.37868432819030851, 0.37269850036829033]\n"
     ]
    }
   ],
   "source": [
    "print(boost.errors)"
   ]
  },
  {
   "cell_type": "markdown",
   "metadata": {},
   "source": [
    "### Train a decision tree with unlimited depth"
   ]
  },
  {
   "cell_type": "code",
   "execution_count": 8,
   "metadata": {
    "collapsed": true,
    "scrolled": false
   },
   "outputs": [],
   "source": [
    "clf = DecisionTree()\n",
    "clf.fit(X, y, weights=weights)"
   ]
  },
  {
   "cell_type": "code",
   "execution_count": 9,
   "metadata": {},
   "outputs": [
    {
     "name": "stdout",
     "output_type": "stream",
     "text": [
      "{0: {0, 1}, 1: {0, 1}, 2: {0, 1}, 3: {0, 1}, 4: {0, 1}, 5: {0, 1}, 6: {0, 1}, 7: {0, 1}, 8: {0, 1}, 9: {0, 1}, 10: {0, 1}, 11: {0, 1}, 12: {0, 1}, 13: {0, 1}, 14: {0, 1}, 15: {0, 1}, 16: {0, 1}, 17: {0, 1}, 18: {0, 1}, 19: {0, 1}, 20: {0, 1}, 21: {0, 1}}\n"
     ]
    }
   ],
   "source": [
    "print(clf.feature_dict)"
   ]
  },
  {
   "cell_type": "code",
   "execution_count": 10,
   "metadata": {},
   "outputs": [
    {
     "name": "stdout",
     "output_type": "stream",
     "text": [
      "-1\n"
     ]
    }
   ],
   "source": [
    "print(clf.predict_single(X_test[2]))"
   ]
  },
  {
   "cell_type": "code",
   "execution_count": 11,
   "metadata": {
    "collapsed": true
   },
   "outputs": [],
   "source": [
    "preds = clf.predict(X_test)"
   ]
  },
  {
   "cell_type": "code",
   "execution_count": 12,
   "metadata": {},
   "outputs": [
    {
     "name": "stdout",
     "output_type": "stream",
     "text": [
      "0.743315508021\n"
     ]
    }
   ],
   "source": [
    "print(np.mean(preds==y_test))"
   ]
  },
  {
   "cell_type": "code",
   "execution_count": 13,
   "metadata": {},
   "outputs": [
    {
     "name": "stdout",
     "output_type": "stream",
     "text": [
      "22\n"
     ]
    }
   ],
   "source": [
    "print(clf.depth)"
   ]
  },
  {
   "cell_type": "code",
   "execution_count": 14,
   "metadata": {},
   "outputs": [
    {
     "name": "stdout",
     "output_type": "stream",
     "text": [
      "0.9375\n"
     ]
    }
   ],
   "source": [
    "train_preds = clf.predict(X)\n",
    "print(np.mean(train_preds==y))"
   ]
  },
  {
   "cell_type": "markdown",
   "metadata": {},
   "source": [
    "Depth = 22 means overfit."
   ]
  },
  {
   "cell_type": "markdown",
   "metadata": {},
   "source": [
    "### Train a decision tree with depth = 2"
   ]
  },
  {
   "cell_type": "code",
   "execution_count": 15,
   "metadata": {
    "collapsed": true
   },
   "outputs": [],
   "source": [
    "clf = DecisionTree(depth=2)\n",
    "clf.fit(X, y, weights)"
   ]
  },
  {
   "cell_type": "code",
   "execution_count": 16,
   "metadata": {
    "collapsed": true
   },
   "outputs": [],
   "source": [
    "preds2 = clf.predict(X_test)"
   ]
  },
  {
   "cell_type": "code",
   "execution_count": 17,
   "metadata": {
    "scrolled": true
   },
   "outputs": [
    {
     "name": "stdout",
     "output_type": "stream",
     "text": [
      "0.711229946524\n"
     ]
    }
   ],
   "source": [
    "print(np.mean(preds2==y_test))"
   ]
  },
  {
   "cell_type": "markdown",
   "metadata": {
    "collapsed": true
   },
   "source": [
    "Accuracy is not bad at all (0.711229946524)."
   ]
  },
  {
   "cell_type": "markdown",
   "metadata": {},
   "source": [
    "### Probability with weights"
   ]
  },
  {
   "cell_type": "code",
   "execution_count": 18,
   "metadata": {
    "collapsed": true
   },
   "outputs": [],
   "source": [
    "weights = np.array([0.2, 0.5, 0.2, 0.1])\n",
    "y_small = np.array([1, 0, 1, 0])\n",
    "x_small = np.array([1, 1, 0, 0])"
   ]
  }
 ],
 "metadata": {
  "kernelspec": {
   "display_name": "Python 3",
   "language": "python",
   "name": "python3"
  },
  "language_info": {
   "codemirror_mode": {
    "name": "ipython",
    "version": 3
   },
   "file_extension": ".py",
   "mimetype": "text/x-python",
   "name": "python",
   "nbconvert_exporter": "python",
   "pygments_lexer": "ipython3",
   "version": "3.6.2"
  }
 },
 "nbformat": 4,
 "nbformat_minor": 2
}
