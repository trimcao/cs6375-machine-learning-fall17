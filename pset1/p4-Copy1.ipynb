{
 "cells": [
  {
   "cell_type": "code",
   "execution_count": 1,
   "metadata": {
    "collapsed": true
   },
   "outputs": [],
   "source": [
    "import numpy as np\n",
    "from cvxpy import *"
   ]
  },
  {
   "cell_type": "code",
   "execution_count": 5,
   "metadata": {
    "collapsed": true
   },
   "outputs": [],
   "source": [
    "# read in the data\n",
    "X = []\n",
    "y = []\n",
    "\n",
    "with open('./mystery.data', 'r') as f:\n",
    "    for line in f:\n",
    "        info = line.strip('\\n').split(',')\n",
    "        X.append([float(i) for i in info[:-1]])\n",
    "        y.append(float(info[-1]))"
   ]
  },
  {
   "cell_type": "code",
   "execution_count": 6,
   "metadata": {
    "collapsed": true
   },
   "outputs": [],
   "source": [
    "X = np.vstack(X)\n",
    "y = np.array(y)\n",
    "\n",
    "# test with smaller number of samples\n",
    "# X = X[500:505]\n",
    "# y = y[500:505]\n"
   ]
  },
  {
   "cell_type": "code",
   "execution_count": 8,
   "metadata": {},
   "outputs": [
    {
     "name": "stdout",
     "output_type": "stream",
     "text": [
      "[-1.  1. -1. -1. -1. -1.  1.  1. -1. -1.]\n"
     ]
    }
   ],
   "source": [
    "print(y[:10])"
   ]
  },
  {
   "cell_type": "code",
   "execution_count": 9,
   "metadata": {},
   "outputs": [
    {
     "name": "stdout",
     "output_type": "stream",
     "text": [
      "(1000, 4)\n",
      "(1000,)\n"
     ]
    }
   ],
   "source": [
    "print(X.shape)\n",
    "print(y.shape)"
   ]
  },
  {
   "cell_type": "code",
   "execution_count": 91,
   "metadata": {},
   "outputs": [
    {
     "name": "stdout",
     "output_type": "stream",
     "text": [
      "[ 0.05497415  0.1981697   0.83571335  0.61553188]\n"
     ]
    }
   ],
   "source": [
    "print(X[-1])"
   ]
  },
  {
   "cell_type": "code",
   "execution_count": 93,
   "metadata": {
    "scrolled": true
   },
   "outputs": [
    {
     "name": "stdout",
     "output_type": "stream",
     "text": [
      "[[ 0.58224917  0.14025536  0.85577189  0.79675142]\n",
      " [ 0.54073934  0.26013019  0.67079711  0.11381718]\n",
      " [ 0.86994103  0.0868151   0.52359205  0.1588243 ]\n",
      " [ 0.26477903  0.42939734  0.29881541  0.35582812]\n",
      " [ 0.31807408  0.25728279  0.70396908  0.84775856]\n",
      " [ 0.11921454  0.29755538  0.38161088  0.5827812 ]\n",
      " [ 0.93982947  0.42485841  0.567685    0.58617767]\n",
      " [ 0.64555187  0.11920726  0.88786095  0.92583799]\n",
      " [ 0.47946322  0.49506692  0.84294929  0.57507827]\n",
      " [ 0.63931696  0.70640723  0.89879856  0.0099774 ]]\n",
      "[ 1.  1. -1. -1.  1.  1. -1.  1.  1.  1.]\n"
     ]
    }
   ],
   "source": [
    "print(X[:10])\n",
    "print(y[:10])"
   ]
  },
  {
   "cell_type": "code",
   "execution_count": 94,
   "metadata": {
    "collapsed": true
   },
   "outputs": [],
   "source": [
    "W = Variable(4)\n",
    "b = Variable()\n",
    "# loss = sum_entries(pos(1 - mul_elemwise(y, X*W + b)))\n",
    "# prob = Problem(Minimize(loss/N))"
   ]
  },
  {
   "cell_type": "code",
   "execution_count": 95,
   "metadata": {
    "collapsed": true
   },
   "outputs": [],
   "source": [
    "constraints = []\n",
    "for i in range(X.shape[0]):\n",
    "    # constraints.append(y*(X[i]*W + b) >= 1)\n",
    "    # print(X[i].shape)\n",
    "    constraints.append(y[i]*(mul_elemwise(X[i], W) + b) >= 1)\n",
    "prob = Problem(Minimize(sum_squares(W)), constraints=constraints)"
   ]
  },
  {
   "cell_type": "code",
   "execution_count": 96,
   "metadata": {},
   "outputs": [
    {
     "name": "stdout",
     "output_type": "stream",
     "text": [
      "\n",
      "ECOS 2.0.4 - (C) embotech GmbH, Zurich Switzerland, 2012-15. Web: www.embotech.com/ECOS\n",
      "\n",
      "It     pcost       dcost      gap   pres   dres    k/t    mu     step   sigma     IR    |   BT\n",
      " 0  +8.799e-17  +3.999e+02  +6e+02  1e+00  9e-01  1e+00  1e+00    ---    ---    1  1  - |  -  - \n",
      " 1  +1.960e+03  +2.398e+04  +3e+02  5e+01  8e+01  3e+02  8e-01  0.5625  2e-01   1  1  1 |  0  0\n",
      " 2  -3.345e+01  +2.006e+03  +3e+02  4e+00  6e+00  4e+02  8e-01  0.0347  9e-01   1  1  1 |  0  0\n",
      " 3  -2.623e+00  +6.146e+02  +8e+01  1e+00  7e-01  4e+02  5e-01  0.6964  4e-01   1  1  1 |  0  0\n",
      " 4  +1.971e+02  +3.939e+04  +1e+01  9e+00  6e+00  4e+04  4e-02  0.9890  7e-02   2  1  2 |  0  0\n",
      " 5  +1.915e+04  +3.206e+06  +1e-01  8e+00  5e+00  3e+06  4e-04  0.9890  1e-04   2  1  1 |  0  0\n",
      " 6  +1.749e+06  +2.915e+08  +2e-03  9e+00  5e+00  3e+08  5e-06  0.9890  1e-04   2  1  1 |  0  0\n",
      " 7  +1.101e+08  +1.776e+10  +3e-05  9e+00  5e+00  2e+10  8e-08  0.9837  1e-04   2  1  1 |  0  0\n",
      " 8  +2.468e+09  +3.517e+11  +1e-06  9e+00  5e+00  3e+11  4e-09  0.9497  1e-03   3  3  3 |  0  0\n",
      "\n",
      "PRIMAL INFEASIBLE (within feastol=4.6e-09).\n",
      "Runtime: 0.000824 seconds.\n",
      "\n",
      "inf\n"
     ]
    }
   ],
   "source": [
    "result = prob.solve(solver=None, verbose=True)\n",
    "print(result)"
   ]
  },
  {
   "cell_type": "code",
   "execution_count": 16,
   "metadata": {},
   "outputs": [
    {
     "name": "stdout",
     "output_type": "stream",
     "text": [
      "[[-5.49099606]\n",
      " [-7.65274513]\n",
      " [ 6.8198238 ]\n",
      " [ 6.57438431]]\n",
      "-0.313335851526\n"
     ]
    }
   ],
   "source": [
    "print(W.value)\n",
    "print(b.value)"
   ]
  },
  {
   "cell_type": "code",
   "execution_count": 17,
   "metadata": {
    "collapsed": true
   },
   "outputs": [],
   "source": [
    "W_val = W.value\n",
    "b_val = b.value"
   ]
  },
  {
   "cell_type": "code",
   "execution_count": 18,
   "metadata": {},
   "outputs": [
    {
     "name": "stdout",
     "output_type": "stream",
     "text": [
      "14 [[-2.58513599]]\n",
      "16 [[-0.59911021]]\n",
      "22 [[-0.7825249]]\n",
      "24 [[-0.69302857]]\n",
      "30 [[-1.28294255]]\n",
      "43 [[-0.21159732]]\n",
      "44 [[-0.22166856]]\n",
      "56 [[-0.72261761]]\n",
      "59 [[-0.82942515]]\n",
      "63 [[-0.17283969]]\n",
      "83 [[-0.12934112]]\n",
      "104 [[-1.03846832]]\n",
      "109 [[-2.87409597]]\n",
      "123 [[-0.12517219]]\n",
      "131 [[-1.27328501]]\n",
      "161 [[-0.15963988]]\n",
      "167 [[-1.45621186]]\n",
      "175 [[-0.50130895]]\n",
      "180 [[-0.30527609]]\n",
      "182 [[-0.15134203]]\n",
      "187 [[-0.80573607]]\n",
      "193 [[-1.24978376]]\n",
      "206 [[-1.84618465]]\n",
      "211 [[-0.51239139]]\n",
      "225 [[-1.17359281]]\n",
      "237 [[-0.11727111]]\n",
      "261 [[-2.38107101]]\n",
      "262 [[-1.43759552]]\n",
      "281 [[-1.38689324]]\n",
      "285 [[-1.53414163]]\n",
      "292 [[-0.82362577]]\n",
      "296 [[-0.26496019]]\n",
      "298 [[-0.07535902]]\n",
      "301 [[-0.6588043]]\n",
      "310 [[-1.04720125]]\n",
      "326 [[-1.22053804]]\n",
      "329 [[-0.39357222]]\n",
      "353 [[-0.00212035]]\n",
      "354 [[-0.2366016]]\n",
      "356 [[-0.12789858]]\n",
      "366 [[-0.38345223]]\n",
      "368 [[-0.14434373]]\n",
      "376 [[-2.88029793]]\n",
      "389 [[-0.11512087]]\n",
      "398 [[-0.40597863]]\n",
      "405 [[-1.86790383]]\n",
      "407 [[-0.92184763]]\n",
      "472 [[-1.28538751]]\n",
      "486 [[-0.25954451]]\n",
      "509 [[-3.03453422]]\n",
      "530 [[-0.23806754]]\n",
      "532 [[-0.11586175]]\n",
      "551 [[-0.92121212]]\n",
      "561 [[-0.06392308]]\n",
      "562 [[-0.01466965]]\n",
      "566 [[-0.3898054]]\n",
      "569 [[-0.4667556]]\n",
      "586 [[-0.03400369]]\n",
      "612 [[-1.02686461]]\n",
      "618 [[-0.09004646]]\n",
      "620 [[-2.9053302]]\n",
      "629 [[-0.9149496]]\n",
      "638 [[-2.10826875]]\n",
      "643 [[-1.93944818]]\n",
      "645 [[-0.22745916]]\n",
      "652 [[-2.36343693]]\n",
      "661 [[-0.3535716]]\n",
      "662 [[-0.44791016]]\n",
      "665 [[-1.59174647]]\n",
      "684 [[-0.51701242]]\n",
      "686 [[-0.88260942]]\n",
      "697 [[-0.21445338]]\n",
      "715 [[-0.92813238]]\n",
      "732 [[-0.43655241]]\n",
      "741 [[-0.15619763]]\n",
      "743 [[-0.10557066]]\n",
      "761 [[-1.03545246]]\n",
      "766 [[-0.49249116]]\n",
      "771 [[-0.22037315]]\n",
      "791 [[-0.46072063]]\n",
      "793 [[-0.49006274]]\n",
      "829 [[-1.00795339]]\n",
      "858 [[-1.9761375]]\n",
      "861 [[-1.17072671]]\n",
      "877 [[-0.50343437]]\n",
      "887 [[-0.70726241]]\n",
      "893 [[-0.6318007]]\n",
      "903 [[-0.77919691]]\n",
      "913 [[-0.33936276]]\n",
      "921 [[-0.49935765]]\n",
      "945 [[-1.89895856]]\n",
      "956 [[-0.00272816]]\n",
      "958 [[-0.74099846]]\n",
      "965 [[-0.5262803]]\n",
      "987 [[-0.80527938]]\n",
      "992 [[-1.22613446]]\n"
     ]
    }
   ],
   "source": [
    "# print(y[1]*(np.dot(W_val.T, X[1]) + b_val))\n",
    "# print(y[900]*(np.dot(W_val.T, X[900]) + b_val))\n",
    "num_wrong = 0\n",
    "for i in range(1000):\n",
    "    value = y[i]*(np.dot(W_val.T, X[i]) + b_val)\n",
    "    if value < 0:\n",
    "        print(i, value)\n",
    "        num_wrong += 1"
   ]
  },
  {
   "cell_type": "code",
   "execution_count": 19,
   "metadata": {},
   "outputs": [
    {
     "data": {
      "text/plain": [
       "96"
      ]
     },
     "execution_count": 19,
     "metadata": {},
     "output_type": "execute_result"
    }
   ],
   "source": [
    "num_wrong"
   ]
  },
  {
   "cell_type": "markdown",
   "metadata": {},
   "source": [
    "### Original Primal SVM"
   ]
  },
  {
   "cell_type": "code",
   "execution_count": 10,
   "metadata": {
    "collapsed": true
   },
   "outputs": [],
   "source": [
    "# parameters\n",
    "N = len(y)"
   ]
  },
  {
   "cell_type": "code",
   "execution_count": 11,
   "metadata": {
    "collapsed": true
   },
   "outputs": [],
   "source": [
    "W1 = Variable()\n",
    "W2 = Variable()\n",
    "W3 = Variable()\n",
    "W4 = Variable()\n",
    "b = Variable()\n",
    "# loss = sum_squares(W)\n",
    "loss = W1**2 + W2**2 + W3**2 + W4**2"
   ]
  },
  {
   "cell_type": "code",
   "execution_count": 12,
   "metadata": {
    "collapsed": true
   },
   "outputs": [],
   "source": [
    "constraints = []\n",
    "for i in range(N):\n",
    "    # constraints.append(y[i] * (W.T*X[i] + b) >= 1)\n",
    "    # mul_elemwise(Y, X*beta - v)\n",
    "    if y[i] > 0:\n",
    "        forward = W1*X[i][0] + W2*X[i][1] + W3*X[i][2] + W4*X[i][3] + b\n",
    "    else:\n",
    "        forward = -W1*X[i][0] - W2*X[i][1] - W3*X[i][2] - W4*X[i][3] - b\n",
    "    constraints.append(forward >= 1.0)"
   ]
  },
  {
   "cell_type": "code",
   "execution_count": 13,
   "metadata": {},
   "outputs": [
    {
     "name": "stdout",
     "output_type": "stream",
     "text": [
      "1.0 <= 0.905791937 * var0 + 0.355073652 * var1 + 0.892267188 * var2 + 0.31906782 * var3 + var4\n",
      "1.0 <= 0.632359246 * -var0 + -0.652451073 * var1 + -0.225067882 * var2 + -0.413183359 * var3 + -var4\n",
      "1000\n"
     ]
    }
   ],
   "source": [
    "print(constraints[1])\n",
    "print(constraints[4])\n",
    "print(len(constraints))"
   ]
  },
  {
   "cell_type": "code",
   "execution_count": 14,
   "metadata": {
    "collapsed": true
   },
   "outputs": [],
   "source": [
    "objective = Minimize(loss)\n",
    "prob = Problem(objective, constraints)"
   ]
  },
  {
   "cell_type": "code",
   "execution_count": 15,
   "metadata": {},
   "outputs": [
    {
     "name": "stdout",
     "output_type": "stream",
     "text": [
      "\n",
      "ECOS 2.0.4 - (C) embotech GmbH, Zurich Switzerland, 2012-15. Web: www.embotech.com/ECOS\n",
      "\n",
      "It     pcost       dcost      gap   pres   dres    k/t    mu     step   sigma     IR    |   BT\n",
      " 0  +0.000e+00  +9.988e+02  +2e+03  8e-01  6e+00  1e+00  2e+00    ---    ---    1  1  - |  -  - \n",
      " 1  +3.616e+03  +5.849e+04  +1e+03  4e+01  5e+02  4e+02  1e+00  0.5677  2e-01   1  1  1 |  0  0\n",
      " 2  -2.077e+01  +3.002e+03  +1e+03  2e+00  2e+01  4e+02  1e+00  0.0652  9e-01   1  1  1 |  0  0\n",
      " 3  +1.054e+01  +2.743e+03  +1e+03  2e+00  2e+01  4e+02  1e+00  0.0899  7e-01   2  1  2 |  0  0\n",
      " 4  +1.092e+02  +2.894e+03  +9e+02  2e+00  1e+01  8e+02  1e+00  0.4449  6e-01   2  1  1 |  0  0\n",
      " 5  +1.389e+03  +1.757e+04  +3e+02  4e+00  7e+00  1e+04  3e-01  0.9890  3e-01   2  1  1 |  0  0\n",
      " 6  +9.814e+03  +1.221e+05  +4e+01  4e+00  4e+00  1e+05  5e-02  0.9890  1e-01   2  1  1 |  0  0\n",
      " 7  +8.443e+05  +1.038e+07  +5e-01  4e+00  4e+00  1e+07  5e-04  0.9890  1e-04   2  1  1 |  0  0\n",
      " 8  +7.394e+07  +9.049e+08  +5e-03  4e+00  4e+00  8e+08  6e-06  0.9886  1e-04   1  1  1 |  0  0\n",
      " 9  +6.494e+09  +7.884e+10  +6e-05  4e+00  4e+00  7e+10  7e-08  0.9886  1e-04   2  1  1 |  0  0\n",
      "10  +9.594e+10  +1.164e+12  +4e-06  4e+00  4e+00  1e+12  5e-09  0.9322  4e-04   5  2  4 |  0  0\n",
      "\n",
      "PRIMAL INFEASIBLE (within feastol=2.8e-09).\n",
      "Runtime: 0.003851 seconds.\n",
      "\n",
      "inf\n"
     ]
    }
   ],
   "source": [
    "result = prob.solve(solver=None, verbose=True)\n",
    "print(result)"
   ]
  },
  {
   "cell_type": "code",
   "execution_count": 16,
   "metadata": {},
   "outputs": [
    {
     "name": "stdout",
     "output_type": "stream",
     "text": [
      "None\n",
      "None\n",
      "None\n",
      "None\n",
      "None\n"
     ]
    }
   ],
   "source": [
    "print(W1.value)\n",
    "print(W2.value)\n",
    "print(W3.value)\n",
    "print(W4.value)\n",
    "print(b.value)"
   ]
  },
  {
   "cell_type": "markdown",
   "metadata": {},
   "source": [
    "### Using Perceptron class from sklearn"
   ]
  },
  {
   "cell_type": "code",
   "execution_count": 25,
   "metadata": {
    "collapsed": true
   },
   "outputs": [],
   "source": [
    "from sklearn.linear_model import Perceptron "
   ]
  },
  {
   "cell_type": "code",
   "execution_count": 26,
   "metadata": {},
   "outputs": [
    {
     "name": "stderr",
     "output_type": "stream",
     "text": [
      "/home/trimcao/anaconda3/envs/ml/lib/python3.6/site-packages/sklearn/linear_model/stochastic_gradient.py:84: FutureWarning: max_iter and tol parameters have been added in <class 'sklearn.linear_model.perceptron.Perceptron'> in 0.19. If both are left unset, they default to max_iter=5 and tol=None. If tol is not None, max_iter defaults to max_iter=1000. From 0.21, default max_iter will be 1000, and default tol will be 1e-3.\n",
      "  \"and default tol will be 1e-3.\" % type(self), FutureWarning)\n"
     ]
    },
    {
     "data": {
      "text/plain": [
       "Perceptron(alpha=0.0001, class_weight=None, eta0=1.0, fit_intercept=True,\n",
       "      max_iter=5, n_iter=None, n_jobs=1, penalty=None, random_state=0,\n",
       "      shuffle=True, tol=None, verbose=0, warm_start=False)"
      ]
     },
     "execution_count": 26,
     "metadata": {},
     "output_type": "execute_result"
    }
   ],
   "source": [
    "clf = Perceptron()\n",
    "clf.fit(X,y)"
   ]
  },
  {
   "cell_type": "code",
   "execution_count": 27,
   "metadata": {},
   "outputs": [
    {
     "name": "stdout",
     "output_type": "stream",
     "text": [
      "0.907\n"
     ]
    }
   ],
   "source": [
    "preds = clf.predict(X)\n",
    "print(np.mean(preds == y))"
   ]
  },
  {
   "cell_type": "markdown",
   "metadata": {},
   "source": [
    "### Using Perceptron algorithm"
   ]
  },
  {
   "cell_type": "code",
   "execution_count": 38,
   "metadata": {
    "collapsed": true
   },
   "outputs": [],
   "source": [
    "# parameters\n",
    "N = len(y)\n",
    "learning_rate = 0.0001"
   ]
  },
  {
   "cell_type": "code",
   "execution_count": 39,
   "metadata": {
    "collapsed": true
   },
   "outputs": [],
   "source": [
    "def f(W, b, X):\n",
    "    \"\"\"\n",
    "    function f as mentioned in the lecture\n",
    "    \"\"\"\n",
    "    return W.dot(X) + b"
   ]
  },
  {
   "cell_type": "code",
   "execution_count": 40,
   "metadata": {
    "collapsed": true
   },
   "outputs": [],
   "source": [
    "def predict(W, b, X):\n",
    "    \"\"\"\n",
    "    Perceptron prediction.\n",
    "    X is an array of samples (not just one sample).\n",
    "    \"\"\"\n",
    "    pred = X.dot(W) + b\n",
    "    # change predictions to 1 and -1\n",
    "    pred[pred > 0] = 1\n",
    "    pred[pred <= 0] = -1\n",
    "    return pred"
   ]
  },
  {
   "cell_type": "code",
   "execution_count": 41,
   "metadata": {
    "collapsed": true
   },
   "outputs": [],
   "source": [
    "def accuracy(y_pred, y_truth):\n",
    "    \"\"\"\n",
    "    Compute accuracy.\n",
    "    \"\"\"\n",
    "    return np.mean(y_pred == y_truth)"
   ]
  },
  {
   "cell_type": "code",
   "execution_count": 42,
   "metadata": {},
   "outputs": [
    {
     "name": "stdout",
     "output_type": "stream",
     "text": [
      "Iteration:  0\n",
      "[ 0.  0.  0.  0.]\n",
      "0\n",
      "accuracy: 0.5\n",
      "highest accuracy: 0.5\n",
      "\n",
      "Iteration:  1000\n",
      "[-0.00182475 -0.00242806 -0.00202533 -0.00271714]\n",
      "0.004\n",
      "accuracy: 0.762\n",
      "highest accuracy: 0.864\n",
      "\n",
      "Iteration:  2000\n",
      "[-0.00216548 -0.00260028 -0.00222569 -0.00304159]\n",
      "0.0044\n",
      "accuracy: 0.739\n",
      "highest accuracy: 0.866\n",
      "\n",
      "Iteration:  3000\n",
      "[-0.00212199 -0.00262686 -0.00216561 -0.0029454 ]\n",
      "0.0045\n",
      "accuracy: 0.83\n",
      "highest accuracy: 0.866\n",
      "\n",
      "Iteration:  4000\n",
      "[-0.00217471 -0.00269531 -0.00215778 -0.00308234]\n",
      "0.0045\n",
      "accuracy: 0.761\n",
      "highest accuracy: 0.867\n",
      "\n",
      "Iteration:  5000\n",
      "[-0.00221221 -0.00261057 -0.00223437 -0.00307445]\n",
      "0.0045\n",
      "accuracy: 0.758\n",
      "highest accuracy: 0.867\n",
      "\n",
      "Iteration:  6000\n",
      "[-0.00211945 -0.00273477 -0.00222697 -0.00312237]\n",
      "0.0045\n",
      "accuracy: 0.741\n",
      "highest accuracy: 0.867\n",
      "\n",
      "Iteration:  7000\n",
      "[-0.00214691 -0.00274915 -0.00221418 -0.00310676]\n",
      "0.0045\n",
      "accuracy: 0.738\n",
      "highest accuracy: 0.867\n",
      "\n"
     ]
    },
    {
     "ename": "KeyboardInterrupt",
     "evalue": "",
     "output_type": "error",
     "traceback": [
      "\u001b[0;31m---------------------------------------------------------------------------\u001b[0m",
      "\u001b[0;31mKeyboardInterrupt\u001b[0m                         Traceback (most recent call last)",
      "\u001b[0;32m<ipython-input-42-b40bb8de5544>\u001b[0m in \u001b[0;36m<module>\u001b[0;34m()\u001b[0m\n\u001b[1;32m     22\u001b[0m     \u001b[0;31m# train using gradient descent\u001b[0m\u001b[0;34m\u001b[0m\u001b[0;34m\u001b[0m\u001b[0m\n\u001b[1;32m     23\u001b[0m     \u001b[0;32mfor\u001b[0m \u001b[0mi\u001b[0m \u001b[0;32min\u001b[0m \u001b[0mrange\u001b[0m\u001b[0;34m(\u001b[0m\u001b[0mN\u001b[0m\u001b[0;34m)\u001b[0m\u001b[0;34m:\u001b[0m\u001b[0;34m\u001b[0m\u001b[0m\n\u001b[0;32m---> 24\u001b[0;31m         \u001b[0;32mif\u001b[0m \u001b[0;34m-\u001b[0m\u001b[0my\u001b[0m\u001b[0;34m[\u001b[0m\u001b[0mi\u001b[0m\u001b[0;34m]\u001b[0m\u001b[0;34m*\u001b[0m\u001b[0mf\u001b[0m\u001b[0;34m(\u001b[0m\u001b[0mW\u001b[0m\u001b[0;34m,\u001b[0m \u001b[0mb\u001b[0m\u001b[0;34m,\u001b[0m \u001b[0mX\u001b[0m\u001b[0;34m[\u001b[0m\u001b[0mi\u001b[0m\u001b[0;34m]\u001b[0m\u001b[0;34m)\u001b[0m \u001b[0;34m>=\u001b[0m \u001b[0;36m0\u001b[0m\u001b[0;34m:\u001b[0m\u001b[0;34m\u001b[0m\u001b[0m\n\u001b[0m\u001b[1;32m     25\u001b[0m             \u001b[0mW\u001b[0m \u001b[0;34m+=\u001b[0m \u001b[0mlearning_rate\u001b[0m \u001b[0;34m*\u001b[0m \u001b[0my\u001b[0m\u001b[0;34m[\u001b[0m\u001b[0mi\u001b[0m\u001b[0;34m]\u001b[0m\u001b[0;34m*\u001b[0m\u001b[0mX\u001b[0m\u001b[0;34m[\u001b[0m\u001b[0mi\u001b[0m\u001b[0;34m]\u001b[0m\u001b[0;34m\u001b[0m\u001b[0m\n\u001b[1;32m     26\u001b[0m             \u001b[0mb\u001b[0m \u001b[0;34m+=\u001b[0m \u001b[0mlearning_rate\u001b[0m \u001b[0;34m*\u001b[0m \u001b[0my\u001b[0m\u001b[0;34m[\u001b[0m\u001b[0mi\u001b[0m\u001b[0;34m]\u001b[0m\u001b[0;34m\u001b[0m\u001b[0m\n",
      "\u001b[0;32m<ipython-input-39-a739ad2fa8a9>\u001b[0m in \u001b[0;36mf\u001b[0;34m(W, b, X)\u001b[0m\n\u001b[0;32m----> 1\u001b[0;31m \u001b[0;32mdef\u001b[0m \u001b[0mf\u001b[0m\u001b[0;34m(\u001b[0m\u001b[0mW\u001b[0m\u001b[0;34m,\u001b[0m \u001b[0mb\u001b[0m\u001b[0;34m,\u001b[0m \u001b[0mX\u001b[0m\u001b[0;34m)\u001b[0m\u001b[0;34m:\u001b[0m\u001b[0;34m\u001b[0m\u001b[0m\n\u001b[0m\u001b[1;32m      2\u001b[0m     \"\"\"\n\u001b[1;32m      3\u001b[0m     \u001b[0mfunction\u001b[0m \u001b[0mf\u001b[0m \u001b[0;32mas\u001b[0m \u001b[0mmentioned\u001b[0m \u001b[0;32min\u001b[0m \u001b[0mthe\u001b[0m \u001b[0mlecture\u001b[0m\u001b[0;34m\u001b[0m\u001b[0m\n\u001b[1;32m      4\u001b[0m     \"\"\"\n\u001b[1;32m      5\u001b[0m     \u001b[0;32mreturn\u001b[0m \u001b[0mW\u001b[0m\u001b[0;34m.\u001b[0m\u001b[0mdot\u001b[0m\u001b[0;34m(\u001b[0m\u001b[0mX\u001b[0m\u001b[0;34m)\u001b[0m \u001b[0;34m+\u001b[0m \u001b[0mb\u001b[0m\u001b[0;34m\u001b[0m\u001b[0m\n",
      "\u001b[0;31mKeyboardInterrupt\u001b[0m: "
     ]
    }
   ],
   "source": [
    "W = np.zeros(4) # initial weights\n",
    "b = 0 # initial bias\n",
    "highest_acc = 0.\n",
    "# (sub)gradient descent\n",
    "for epoch in range(100001):\n",
    "    # check accuracy\n",
    "    pred = predict(W, b, X)\n",
    "    acc = accuracy(pred, y)\n",
    "    if acc > highest_acc:\n",
    "        highest_acc = acc\n",
    "    # print data\n",
    "    if epoch % 1000 == 0:\n",
    "        print('Iteration: ', epoch)\n",
    "        print(W)\n",
    "        print(b)\n",
    "        print('accuracy:', acc)\n",
    "        print('highest accuracy:', highest_acc)\n",
    "        print()\n",
    "    if (acc == 1.0):\n",
    "        break\n",
    "    \n",
    "    # train using gradient descent\n",
    "    for i in range(N):\n",
    "        if -y[i]*f(W, b, X[i]) >= 0:\n",
    "            W += learning_rate * y[i]*X[i]\n",
    "            b += learning_rate * y[i]\n",
    "\n"
   ]
  },
  {
   "cell_type": "markdown",
   "metadata": {},
   "source": [
    "### SVM from Scikit-Learn"
   ]
  },
  {
   "cell_type": "code",
   "execution_count": 32,
   "metadata": {},
   "outputs": [
    {
     "data": {
      "text/plain": [
       "LinearSVC(C=1.0, class_weight=None, dual=True, fit_intercept=True,\n",
       "     intercept_scaling=1, loss='squared_hinge', max_iter=1000,\n",
       "     multi_class='ovr', penalty='l2', random_state=None, tol=0.0001,\n",
       "     verbose=0)"
      ]
     },
     "execution_count": 32,
     "metadata": {},
     "output_type": "execute_result"
    }
   ],
   "source": [
    "from sklearn import svm\n",
    "clf = svm.LinearSVC(C=1.0)\n",
    "clf.fit(X,y)"
   ]
  },
  {
   "cell_type": "code",
   "execution_count": 33,
   "metadata": {
    "collapsed": true,
    "scrolled": true
   },
   "outputs": [],
   "source": [
    "W_val = clf.coef_[0]\n",
    "b_val = clf.intercept_[0]"
   ]
  },
  {
   "cell_type": "code",
   "execution_count": 34,
   "metadata": {},
   "outputs": [
    {
     "name": "stdout",
     "output_type": "stream",
     "text": [
      "0.903\n"
     ]
    }
   ],
   "source": [
    "preds = clf.predict(X)\n",
    "print(np.mean(preds == y))"
   ]
  },
  {
   "cell_type": "markdown",
   "metadata": {},
   "source": [
    "### CVXPY simple example"
   ]
  },
  {
   "cell_type": "code",
   "execution_count": null,
   "metadata": {
    "collapsed": true
   },
   "outputs": [],
   "source": [
    "# test cvxpy\n",
    "M = Variable()\n",
    "N = Variable()\n",
    "loss = 0.5*M**2 + 3*M + 4*N\n",
    "objective = Minimize(loss)"
   ]
  },
  {
   "cell_type": "code",
   "execution_count": null,
   "metadata": {
    "collapsed": true
   },
   "outputs": [],
   "source": [
    "constraints = []\n",
    "constraints.append(M >= 0)\n",
    "constraints.append(N >= 0)\n",
    "constraints.append(M + 3*N >= 15)\n",
    "constraints.append(2*M + 5*N <= 100)\n",
    "constraints.append(3*M + 4*N <= 80)"
   ]
  },
  {
   "cell_type": "code",
   "execution_count": null,
   "metadata": {
    "collapsed": true
   },
   "outputs": [],
   "source": [
    "prob = Problem(objective, constraints)\n",
    "result = prob.solve(verbose=True)"
   ]
  },
  {
   "cell_type": "code",
   "execution_count": null,
   "metadata": {
    "collapsed": true
   },
   "outputs": [],
   "source": [
    "M.value"
   ]
  },
  {
   "cell_type": "code",
   "execution_count": null,
   "metadata": {
    "collapsed": true
   },
   "outputs": [],
   "source": [
    "N.value"
   ]
  },
  {
   "cell_type": "code",
   "execution_count": null,
   "metadata": {
    "collapsed": true
   },
   "outputs": [],
   "source": [
    "print(result)"
   ]
  },
  {
   "cell_type": "markdown",
   "metadata": {
    "collapsed": true
   },
   "source": [
    "### CVXOPT"
   ]
  },
  {
   "cell_type": "code",
   "execution_count": 167,
   "metadata": {},
   "outputs": [
    {
     "name": "stdout",
     "output_type": "stream",
     "text": [
      "     pcost       dcost       gap    pres   dres\n",
      " 0:  1.8889e+00  7.7778e-01  1e+00  3e-16  2e+00\n",
      " 1:  1.8769e+00  1.8320e+00  4e-02  2e-16  6e-02\n",
      " 2:  1.8750e+00  1.8739e+00  1e-03  2e-16  5e-04\n",
      " 3:  1.8750e+00  1.8750e+00  1e-05  6e-17  5e-06\n",
      " 4:  1.8750e+00  1.8750e+00  1e-07  2e-16  5e-08\n",
      "Optimal solution found.\n"
     ]
    }
   ],
   "source": [
    "from cvxopt import matrix, solvers\n",
    "Q = 2*matrix([ [2, .5], [.5, 1] ])\n",
    "p = matrix([1.0, 1.0])\n",
    "G = matrix([[-1.0,0.0],[0.0,-1.0]])\n",
    "h = matrix([0.0,0.0])\n",
    "A = matrix([1.0, 1.0], (1,2))\n",
    "b = matrix(1.0)\n",
    "sol=solvers.qp(Q, p, G, h, A, b)"
   ]
  },
  {
   "cell_type": "code",
   "execution_count": 168,
   "metadata": {},
   "outputs": [
    {
     "name": "stdout",
     "output_type": "stream",
     "text": [
      "[ 2.50e-01]\n",
      "[ 7.50e-01]\n",
      "\n"
     ]
    }
   ],
   "source": [
    "print(sol['x'])"
   ]
  },
  {
   "cell_type": "markdown",
   "metadata": {
    "collapsed": true
   },
   "source": [
    "### Test on Perceptron data"
   ]
  },
  {
   "cell_type": "code",
   "execution_count": 22,
   "metadata": {
    "collapsed": true
   },
   "outputs": [],
   "source": [
    "# read in the data\n",
    "X = []\n",
    "y = []\n",
    "\n",
    "with open('./perceptron.data', 'r') as f:\n",
    "    for line in f:\n",
    "        info = line.strip('\\n').split(',')\n",
    "        X.append([int(i) for i in info[:4]])\n",
    "        y.append(int(info[4]))\n",
    "# make the numpy arrays\n",
    "X = np.vstack(X)\n",
    "y = np.array(y)\n",
    "# parameters\n",
    "N = len(y)"
   ]
  },
  {
   "cell_type": "code",
   "execution_count": 23,
   "metadata": {
    "collapsed": true
   },
   "outputs": [],
   "source": [
    "W1 = Variable()\n",
    "W2 = Variable()\n",
    "W3 = Variable()\n",
    "W4 = Variable()\n",
    "b = Variable()\n",
    "# loss = sum_squares(W)\n",
    "loss = W1**2 + W2**2 + W3**2 + W4**2"
   ]
  },
  {
   "cell_type": "code",
   "execution_count": 24,
   "metadata": {
    "collapsed": true
   },
   "outputs": [],
   "source": [
    "constraints = []\n",
    "for i in range(N):\n",
    "    # constraints.append(y[i] * (W.T*X[i] + b) >= 1)\n",
    "    # mul_elemwise(Y, X*beta - v)\n",
    "    if y[i] > 0:\n",
    "        forward = W1*X[i][0] + W2*X[i][1] + W3*X[i][2] + W4*X[i][3] + b\n",
    "    else:\n",
    "        forward = -W1*X[i][0] - W2*X[i][1] - W3*X[i][2] - W4*X[i][3] - b\n",
    "    constraints.append(forward >= 1.0)"
   ]
  },
  {
   "cell_type": "code",
   "execution_count": 25,
   "metadata": {
    "collapsed": true
   },
   "outputs": [],
   "source": [
    "objective = Minimize(loss)\n",
    "prob = Problem(objective, constraints)"
   ]
  },
  {
   "cell_type": "code",
   "execution_count": 31,
   "metadata": {},
   "outputs": [
    {
     "name": "stdout",
     "output_type": "stream",
     "text": [
      "33.31954778154782\n"
     ]
    }
   ],
   "source": [
    "result = prob.solve()\n",
    "print(result)"
   ]
  },
  {
   "cell_type": "code",
   "execution_count": 27,
   "metadata": {},
   "outputs": [
    {
     "name": "stdout",
     "output_type": "stream",
     "text": [
      "2.74534161271\n",
      "-2.16149068143\n",
      "4.45962732568\n",
      "-1.10559006117\n",
      "0.962732918452\n"
     ]
    }
   ],
   "source": [
    "print(W1.value)\n",
    "print(W2.value)\n",
    "print(W3.value)\n",
    "print(W4.value)\n",
    "print(b.value)"
   ]
  },
  {
   "cell_type": "code",
   "execution_count": 1,
   "metadata": {},
   "outputs": [
    {
     "ename": "NameError",
     "evalue": "name 'N' is not defined",
     "output_type": "error",
     "traceback": [
      "\u001b[0;31m---------------------------------------------------------------------------\u001b[0m",
      "\u001b[0;31mNameError\u001b[0m                                 Traceback (most recent call last)",
      "\u001b[0;32m<ipython-input-1-a006326627d0>\u001b[0m in \u001b[0;36m<module>\u001b[0;34m()\u001b[0m\n\u001b[1;32m      1\u001b[0m \u001b[0;31m# test the margin\u001b[0m\u001b[0;34m\u001b[0m\u001b[0;34m\u001b[0m\u001b[0m\n\u001b[1;32m      2\u001b[0m \u001b[0mnum_wrong\u001b[0m \u001b[0;34m=\u001b[0m \u001b[0;36m0\u001b[0m\u001b[0;34m\u001b[0m\u001b[0m\n\u001b[0;32m----> 3\u001b[0;31m \u001b[0;32mfor\u001b[0m \u001b[0mi\u001b[0m \u001b[0;32min\u001b[0m \u001b[0mrange\u001b[0m\u001b[0;34m(\u001b[0m\u001b[0mN\u001b[0m\u001b[0;34m)\u001b[0m\u001b[0;34m:\u001b[0m\u001b[0;34m\u001b[0m\u001b[0m\n\u001b[0m\u001b[1;32m      4\u001b[0m     value = y[i]*(W1.value*X[i][0] + W2.value*X[i][1] +\n\u001b[1;32m      5\u001b[0m                   W3.value*X[i][2] + W4.value*X[i][3] + b.value)\n",
      "\u001b[0;31mNameError\u001b[0m: name 'N' is not defined"
     ]
    }
   ],
   "source": [
    "# test the margin\n",
    "num_wrong = 0\n",
    "for i in range(N):\n",
    "    value = y[i]*(W1.value*X[i][0] + W2.value*X[i][1] +\n",
    "                  W3.value*X[i][2] + W4.value*X[i][3] + b.value)\n",
    "    if value < .99:\n",
    "        print(i, value)\n",
    "        num_wrong += 1 \n",
    "print(num_wrong)"
   ]
  },
  {
   "cell_type": "code",
   "execution_count": null,
   "metadata": {
    "collapsed": true
   },
   "outputs": [],
   "source": []
  }
 ],
 "metadata": {
  "kernelspec": {
   "display_name": "Python 3",
   "language": "python",
   "name": "python3"
  },
  "language_info": {
   "codemirror_mode": {
    "name": "ipython",
    "version": 3
   },
   "file_extension": ".py",
   "mimetype": "text/x-python",
   "name": "python",
   "nbconvert_exporter": "python",
   "pygments_lexer": "ipython3",
   "version": "3.6.2"
  }
 },
 "nbformat": 4,
 "nbformat_minor": 2
}
