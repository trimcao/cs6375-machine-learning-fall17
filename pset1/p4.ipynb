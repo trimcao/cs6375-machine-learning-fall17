{
 "cells": [
  {
   "cell_type": "code",
   "execution_count": 22,
   "metadata": {
    "collapsed": true
   },
   "outputs": [],
   "source": [
    "import numpy as np\n",
    "from cvxpy import *"
   ]
  },
  {
   "cell_type": "code",
   "execution_count": 154,
   "metadata": {
    "collapsed": true
   },
   "outputs": [],
   "source": [
    "# read in the data\n",
    "X = []\n",
    "y = []\n",
    "\n",
    "with open('./mystery.data', 'r') as f:\n",
    "    for line in f:\n",
    "        info = line.strip('\\n').split(',')\n",
    "        X.append([float(i) for i in info[:-1]])\n",
    "        y.append(float(info[-1]))"
   ]
  },
  {
   "cell_type": "code",
   "execution_count": null,
   "metadata": {
    "collapsed": true
   },
   "outputs": [],
   "source": [
    "X = np.vstack(X)\n",
    "y = np.array(y)\n",
    "\n",
    "# test with smaller number of samples\n",
    "# X = X[500:505]\n",
    "# y = y[500:505]\n"
   ]
  },
  {
   "cell_type": "markdown",
   "metadata": {},
   "source": [
    "### Feature engineering\n",
    "\n",
    "Idea:\n",
    "- each feature squared\n",
    "- product of features"
   ]
  },
  {
   "cell_type": "raw",
   "metadata": {},
   "source": [
    "# each feature squared\n",
    "X2 = np.column_stack((X, X[:,0]**2, X[:,1]**2, X[:,2]**2, X[:,3]**2))"
   ]
  },
  {
   "cell_type": "raw",
   "metadata": {},
   "source": [
    "X2 = np.column_stack((X, X[:,0]*X[:,1]*X[:,2]*X[:,3], X[:,0]*X[:,1], X[:,1]*X[:,2], X[:,2]*X[:,3])"
   ]
  },
  {
   "cell_type": "code",
   "execution_count": 169,
   "metadata": {
    "collapsed": true
   },
   "outputs": [],
   "source": [
    "D = X.shape[1]"
   ]
  },
  {
   "cell_type": "code",
   "execution_count": 157,
   "metadata": {},
   "outputs": [],
   "source": [
    "features = []\n",
    "for i in range(D):\n",
    "    for j in range(i, D):\n",
    "        features.append(X[:,i]*X[:,j])"
   ]
  },
  {
   "cell_type": "code",
   "execution_count": 170,
   "metadata": {
    "collapsed": true
   },
   "outputs": [],
   "source": [
    "for i in range(D):\n",
    "    for j in range(i, D):\n",
    "        for k in range(j, D):\n",
    "            features.append(X[:,i]*X[:,j]*X[:,k])"
   ]
  },
  {
   "cell_type": "code",
   "execution_count": 126,
   "metadata": {
    "collapsed": true
   },
   "outputs": [],
   "source": [
    "for i in range(D):\n",
    "    for j in range(i, D):\n",
    "        for k in range(j, D):\n",
    "            for m in range(k, D):\n",
    "                features.append(X[:,i]*X[:,j]*X[:,k]*X[:,m])"
   ]
  },
  {
   "cell_type": "code",
   "execution_count": 171,
   "metadata": {
    "collapsed": true
   },
   "outputs": [],
   "source": [
    "X_add = np.vstack(features)"
   ]
  },
  {
   "cell_type": "code",
   "execution_count": 172,
   "metadata": {},
   "outputs": [
    {
     "data": {
      "text/plain": [
       "(1000, 30)"
      ]
     },
     "execution_count": 172,
     "metadata": {},
     "output_type": "execute_result"
    }
   ],
   "source": [
    "X_add.T.shape"
   ]
  },
  {
   "cell_type": "code",
   "execution_count": 173,
   "metadata": {},
   "outputs": [],
   "source": [
    "X2 = np.column_stack((X, X_add.T))"
   ]
  },
  {
   "cell_type": "code",
   "execution_count": 174,
   "metadata": {},
   "outputs": [
    {
     "name": "stdout",
     "output_type": "stream",
     "text": [
      "(1000, 34)\n"
     ]
    }
   ],
   "source": [
    "print(X2.shape)"
   ]
  },
  {
   "cell_type": "markdown",
   "metadata": {},
   "source": [
    "### Original Primal SVM"
   ]
  },
  {
   "cell_type": "code",
   "execution_count": 175,
   "metadata": {
    "collapsed": true
   },
   "outputs": [],
   "source": [
    "# parameters\n",
    "D = X2.shape[1]\n",
    "N = len(y)"
   ]
  },
  {
   "cell_type": "code",
   "execution_count": 176,
   "metadata": {
    "collapsed": true
   },
   "outputs": [],
   "source": [
    "W = Variable(D)\n",
    "b = Variable()\n",
    "loss = sum_squares(W)\n",
    "# loss = W1**2 + W2**2 + W3**2 + W4**2"
   ]
  },
  {
   "cell_type": "code",
   "execution_count": 177,
   "metadata": {},
   "outputs": [],
   "source": [
    "constraints = []\n",
    "for i in range(N):\n",
    "    forward = y[i] * (W.T*X2[i] + b)\n",
    "    constraints.append(forward >= 1)"
   ]
  },
  {
   "cell_type": "code",
   "execution_count": 179,
   "metadata": {
    "collapsed": true
   },
   "outputs": [],
   "source": [
    "objective = Minimize(loss)\n",
    "prob = Problem(objective, constraints)"
   ]
  },
  {
   "cell_type": "code",
   "execution_count": 180,
   "metadata": {},
   "outputs": [
    {
     "name": "stdout",
     "output_type": "stream",
     "text": [
      "\n",
      "ECOS 2.0.4 - (C) embotech GmbH, Zurich Switzerland, 2012-15. Web: www.embotech.com/ECOS\n",
      "\n",
      "It     pcost       dcost      gap   pres   dres    k/t    mu     step   sigma     IR    |   BT\n",
      " 0  -4.948e-17  +1.000e+03  +2e+03  6e-01  9e+00  1e+00  2e+00    ---    ---    1  1  - |  -  - \n",
      " 1  +7.764e+03  +2.740e+04  +5e+02  1e+01  4e+02  2e+02  5e-01  0.8576  9e-02   1  1  1 |  0  0\n",
      " 2  +1.539e+03  +5.054e+03  +4e+02  2e+00  4e+01  9e+01  4e-01  0.1890  8e-01   2  1  2 |  0  0\n",
      " 3  +1.292e+03  +3.488e+03  +3e+02  1e+00  2e+01  6e+01  3e-01  0.3872  2e-01   2  1  1 |  0  0\n",
      " 4  +2.766e+03  +5.621e+03  +9e+01  2e+00  5e+01  2e+02  9e-02  0.9890  3e-01   2  1  1 |  0  0\n",
      " 5  +1.387e+03  +2.353e+03  +7e+01  6e-01  1e+01  1e+00  7e-02  0.4830  4e-01   2  1  2 |  0  0\n",
      " 6  +7.975e+02  +1.105e+03  +4e+01  2e-01  1e+00  5e+00  4e-02  0.5232  3e-01   2  2  2 |  0  0\n",
      " 7  +1.649e+03  +2.043e+03  +3e+01  2e-01  1e+00  1e+01  3e-02  0.4898  5e-01   2  2  2 |  0  0\n",
      " 8  +2.327e+03  +2.547e+03  +2e+01  1e-01  4e-01  9e+00  2e-02  0.6372  2e-01   3  2  2 |  0  0\n",
      " 9  +3.466e+03  +3.620e+03  +1e+01  1e-01  2e-01  1e+01  1e-02  0.5923  3e-01   2  2  1 |  0  0\n",
      "10  +3.437e+03  +3.627e+03  +1e+01  1e-01  2e-01  1e+01  1e-02  0.0838  8e-01   3  2  3 |  0  0\n",
      "11  +5.440e+03  +5.554e+03  +4e+00  1e-01  7e-02  1e+01  4e-03  0.7128  2e-01   3  2  2 |  0  0\n",
      "12  +6.893e+03  +6.973e+03  +3e+00  7e-02  5e-02  9e+00  3e-03  0.5016  3e-01   2  1  1 |  0  0\n",
      "13  +9.731e+03  +9.777e+03  +9e-01  4e-02  2e-02  8e+00  9e-04  0.8317  2e-01   2  2  3 |  0  0\n",
      "14  +8.919e+03  +8.979e+03  +6e-01  7e-02  2e-02  1e+01  6e-04  0.5837  5e-01   3  3  2 |  0  0\n",
      "15  +1.162e+04  +1.166e+04  +4e-01  5e-02  1e-02  9e+00  4e-04  0.5054  2e-01   3  3  3 |  0  0\n",
      "16  +1.177e+04  +1.181e+04  +3e-01  5e-02  1e-02  9e+00  3e-04  0.2041  8e-01   3  3  2 |  0  0\n",
      "17  +1.603e+04  +1.605e+04  +1e-01  2e-02  6e-03  5e+00  1e-04  0.9489  3e-01   3  3  3 |  0  0\n",
      "18  +2.062e+04  +2.063e+04  +2e-02  7e-03  2e-03  3e+00  2e-05  0.8639  6e-02   4  3  2 |  0  0\n",
      "19  +2.152e+04  +2.153e+04  +1e-02  6e-03  1e-03  3e+00  1e-05  0.6377  4e-01   3  2  2 |  0  0\n",
      "20  +2.379e+04  +2.379e+04  +3e-03  1e-03  4e-04  8e-01  3e-06  0.9890  3e-01   2  2  1 |  0  0\n",
      "21  +2.448e+04  +2.448e+04  +7e-04  4e-04  9e-05  2e-01  7e-07  0.8212  5e-02   2  2  3 |  0  0\n",
      "22  +2.470e+04  +2.470e+04  +4e-05  2e-05  5e-06  1e-02  4e-08  0.9457  3e-04   3  1  1 |  0  0\n",
      "23  +2.471e+04  +2.471e+04  +7e-07  4e-07  9e-08  2e-04  7e-10  0.9817  1e-04   2  1  1 |  0  0\n",
      "24  +2.471e+04  +2.471e+04  +3e-08  3e-08  4e-09  1e-05  3e-11  0.9515  4e-04   2  1  1 |  0  0\n",
      "25  +2.471e+04  +2.471e+04  +1e-09  8e-08  2e-10  4e-07  1e-12  0.9852  2e-02   1  1  1 |  0  0\n",
      "26  +2.471e+04  +2.471e+04  +2e-10  2e-08  3e-11  6e-08  1e-13  0.8820  6e-03   1  2  1 |  0  0\n",
      "27  +2.471e+04  +2.471e+04  +2e-11  3e-10  4e-12  8e-09  2e-14  0.9634  1e-01   1  1  1 |  0  0\n",
      "\n",
      "OPTIMAL (within feastol=2.8e-10, reltol=8.4e-16, abstol=2.1e-11).\n",
      "Runtime: 0.058028 seconds.\n",
      "\n",
      "24707.19331303501\n"
     ]
    }
   ],
   "source": [
    "result = prob.solve(solver=None, verbose=True)\n",
    "print(result)"
   ]
  },
  {
   "cell_type": "code",
   "execution_count": 181,
   "metadata": {},
   "outputs": [
    {
     "name": "stdout",
     "output_type": "stream",
     "text": [
      "[[ -8.41115659]\n",
      " [-25.6793397 ]\n",
      " [ 23.1111561 ]\n",
      " [  6.19060486]\n",
      " [-38.17264422]\n",
      " [ 19.0705384 ]\n",
      " [  7.30296488]\n",
      " [ -9.47574343]\n",
      " [-11.61375605]\n",
      " [-17.39065898]\n",
      " [ 11.95301097]\n",
      " [ 23.03928693]\n",
      " [-49.83705507]\n",
      " [ 62.24284997]\n",
      " [-52.2541133 ]\n",
      " [ 18.42088092]\n",
      " [  6.01150469]\n",
      " [ -4.55755844]\n",
      " [ -5.69525223]\n",
      " [  1.84246607]\n",
      " [  2.35545237]\n",
      " [ -3.45433686]\n",
      " [ -1.81663261]\n",
      " [ 14.72096588]\n",
      " [-68.06072162]\n",
      " [ -1.24896327]\n",
      " [-29.24493448]\n",
      " [ 19.49549445]\n",
      " [  5.18246701]\n",
      " [ -3.49098151]\n",
      " [ 59.00988784]\n",
      " [  3.29845913]\n",
      " [  7.94573781]\n",
      " [ 33.27565587]]\n",
      "0.242384032314\n"
     ]
    }
   ],
   "source": [
    "print(W.value)\n",
    "print(b.value)"
   ]
  },
  {
   "cell_type": "code",
   "execution_count": 182,
   "metadata": {
    "collapsed": true
   },
   "outputs": [],
   "source": [
    "W_val = W.value\n",
    "b_val = b.value"
   ]
  },
  {
   "cell_type": "markdown",
   "metadata": {},
   "source": [
    "### Support Vectors"
   ]
  },
  {
   "cell_type": "code",
   "execution_count": 187,
   "metadata": {},
   "outputs": [
    {
     "name": "stdout",
     "output_type": "stream",
     "text": [
      "119 [[ 1.]]\n",
      "151 [[ 1.]]\n",
      "161 [[ 1.]]\n",
      "187 [[ 1.]]\n",
      "188 [[ 1.]]\n",
      "219 [[ 1.]]\n",
      "239 [[ 1.]]\n",
      "282 [[ 1.]]\n",
      "309 [[ 1.]]\n",
      "516 [[ 1.]]\n",
      "549 [[ 1.]]\n",
      "551 [[ 0.99999999]]\n",
      "645 [[ 1.]]\n",
      "691 [[ 1.]]\n",
      "840 [[ 1.]]\n",
      "856 [[ 1.]]\n",
      "911 [[ 1.]]\n",
      "925 [[ 1.]]\n"
     ]
    }
   ],
   "source": [
    "num_wrong = 0\n",
    "for i in range(1000):\n",
    "    value = y[i]*(np.dot(W_val.T, X2[i]) + b_val)\n",
    "    if value < 0:\n",
    "        print(i, value)\n",
    "        num_wrong += 1\n",
    "    elif value < 1:\n",
    "        print(i, value)"
   ]
  },
  {
   "cell_type": "markdown",
   "metadata": {},
   "source": [
    "### Margin value"
   ]
  },
  {
   "cell_type": "code",
   "execution_count": 188,
   "metadata": {},
   "outputs": [
    {
     "data": {
      "text/plain": [
       "157.18521923222443"
      ]
     },
     "execution_count": 188,
     "metadata": {},
     "output_type": "execute_result"
    }
   ],
   "source": [
    "np.linalg.norm(W.value)"
   ]
  },
  {
   "cell_type": "code",
   "execution_count": null,
   "metadata": {
    "collapsed": true
   },
   "outputs": [],
   "source": []
  }
 ],
 "metadata": {
  "kernelspec": {
   "display_name": "Python 3",
   "language": "python",
   "name": "python3"
  },
  "language_info": {
   "codemirror_mode": {
    "name": "ipython",
    "version": 3
   },
   "file_extension": ".py",
   "mimetype": "text/x-python",
   "name": "python",
   "nbconvert_exporter": "python",
   "pygments_lexer": "ipython3",
   "version": "3.6.2"
  }
 },
 "nbformat": 4,
 "nbformat_minor": 2
}
