{
 "cells": [
  {
   "cell_type": "code",
   "execution_count": 2,
   "metadata": {
    "collapsed": true
   },
   "outputs": [],
   "source": [
    "### Do not change the Location or Campus classes. ###\n",
    "### Location class is the same as in lecture.     ###\n",
    "class Location(object):\n",
    "    def __init__(self, x, y):\n",
    "        self.x = x\n",
    "        self.y = y\n",
    "    def move(self, deltaX, deltaY):\n",
    "        return Location(self.x + deltaX, self.y + deltaY)\n",
    "    def getX(self):\n",
    "        return self.x\n",
    "    def getY(self):\n",
    "        return self.y\n",
    "    def dist_from(self, other):\n",
    "        xDist = self.x - other.x\n",
    "        yDist = self.y - other.y\n",
    "        return (xDist**2 + yDist**2)**0.5\n",
    "    def __eq__(self, other):\n",
    "        return (self.x == other.x and self.y == other.y)\n",
    "    def __str__(self):\n",
    "        return '<' + str(self.x) + ',' + str(self.y) + '>'\n",
    "        \n",
    "class Campus(object):\n",
    "    def __init__(self, center_loc):\n",
    "        self.center_loc = center_loc\n",
    "    def __str__(self):\n",
    "        return str(self.center_loc)\n",
    "\n",
    "# class MITCampus(Campus):\n",
    "#     \"\"\" A MITCampus is a Campus that contains tents \"\"\"\n",
    "#     def __init__(self, center_loc, tent_loc = Location(0,0)):\n",
    "#         \"\"\" Assumes center_loc and tent_loc are Location objects \n",
    "#         Initializes a new Campus centered at location center_loc \n",
    "#         with a tent at location tent_loc \"\"\"\n",
    "#         # Your code here\n",
    "      \n",
    "#     def add_tent(self, new_tent_loc):\n",
    "#         \"\"\" Assumes new_tent_loc is a Location\n",
    "#         Adds new_tent_loc to the campus only if the tent is at least 0.5 distance \n",
    "#         away from all other tents already there. Campus is unchanged otherwise.\n",
    "#         Returns True if it could add the tent, False otherwise. \"\"\"\n",
    "#         # Your code here\n",
    "      \n",
    "#     def remove_tent(self, tent_loc):\n",
    "#         \"\"\" Assumes tent_loc is a Location\n",
    "#         Removes tent_loc from the campus. \n",
    "#         Raises a ValueError if there is not a tent at tent_loc.\n",
    "#         Does not return anything \"\"\"\n",
    "#         # Your code here\n",
    "      \n",
    "#     def get_tents(self):\n",
    "#         \"\"\" Returns a list of all tents on the campus. The list should contain \n",
    "#         the string representation of the Location of a tent. The list should \n",
    "#         be sorted by the x coordinate of the location. \"\"\"\n",
    "#         # Your code here"
   ]
  },
  {
   "cell_type": "code",
   "execution_count": 3,
   "metadata": {
    "collapsed": true
   },
   "outputs": [],
   "source": [
    "class MITCampus(Campus):\n",
    "    \"\"\" A MITCampus is a Campus that contains tents \"\"\"\n",
    "    def __init__(self, center_loc, tent_loc = Location(0,0)):\n",
    "        \"\"\" Assumes center_loc and tent_loc are Location objects \n",
    "        Initializes a new Campus centered at location center_loc \n",
    "        with a tent at location tent_loc \"\"\"\n",
    "        Campus.__init__(self, center_loc)\n",
    "        self.tent = [tent_loc]\n",
    "        \n",
    "    def add_tent(self, new_tent_loc):\n",
    "        \"\"\" Assumes new_tent_loc is a Location\n",
    "        Adds new_tent_loc to the campus only if the tent is at least 0.5 distance \n",
    "        away from all other tents already there. Campus is unchanged otherwise.\n",
    "        Returns True if it could add the tent, False otherwise. \"\"\"\n",
    "        canAdd = True\n",
    "        for i in self.tent:\n",
    "            if Location.dist_from(new_tent_loc, i) < 0.5:\n",
    "                canAdd = False\n",
    "        if canAdd:    \n",
    "            self.tent.append(new_tent_loc)\n",
    "        return canAdd\n",
    "            \n",
    "    def remove_tent(self, tent_loc):\n",
    "        \"\"\" Assumes tent_loc is a Location\n",
    "        Removes tent_loc from the campus. \n",
    "        Raises a ValueError if there is not a tent at tent_loc.\n",
    "        Does not return anything \"\"\"\n",
    "        self.tent.remove(tent_loc)            \n",
    "                 \n",
    "    def get_tents(self):\n",
    "        \"\"\" Returns a list of all tents on the campus. The list should contain \n",
    "        the string representation of the Location of a tent. The list should \n",
    "        be sorted by the x coordinate of the location. \"\"\"\n",
    "        tentList = []\n",
    "        sortList = {}\n",
    "        for j in self.tent:\n",
    "            sortList[j.getX()*100 + j.getY()] = str(j)\n",
    "        keyList = sortList.keys()\n",
    "        for k in sorted(keyList):\n",
    "            tentList.append(sortList[k])\n",
    "        return tentList"
   ]
  },
  {
   "cell_type": "code",
   "execution_count": 4,
   "metadata": {
    "collapsed": true
   },
   "outputs": [],
   "source": [
    "c = MITCampus(Location(1,2))"
   ]
  },
  {
   "cell_type": "code",
   "execution_count": null,
   "metadata": {
    "collapsed": true
   },
   "outputs": [],
   "source": [
    "print(c.add_tent(Location(2,3)))\n",
    "print(c.add_tent(Location(1,2)))\n",
    "print(c.add_tent(Location(0,0)))\n",
    "print(c.add_tent(Location(2,3)))\n",
    "print(c.get_tents())"
   ]
  }
 ],
 "metadata": {
  "kernelspec": {
   "display_name": "Python 3",
   "language": "python",
   "name": "python3"
  },
  "language_info": {
   "codemirror_mode": {
    "name": "ipython",
    "version": 3
   },
   "file_extension": ".py",
   "mimetype": "text/x-python",
   "name": "python",
   "nbconvert_exporter": "python",
   "pygments_lexer": "ipython3",
   "version": "3.6.2"
  }
 },
 "nbformat": 4,
 "nbformat_minor": 2
}
