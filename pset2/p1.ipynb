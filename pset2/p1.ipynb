{
 "cells": [
  {
   "cell_type": "code",
   "execution_count": 1,
   "metadata": {
    "collapsed": true
   },
   "outputs": [],
   "source": [
    "import numpy as np\n",
    "import cvxpy as cvx"
   ]
  },
  {
   "cell_type": "markdown",
   "metadata": {},
   "source": [
    "### Preprocessing data"
   ]
  },
  {
   "cell_type": "code",
   "execution_count": 2,
   "metadata": {
    "collapsed": true
   },
   "outputs": [],
   "source": [
    "def read_in(file_path):\n",
    "    X = []\n",
    "    y = []\n",
    "    with open(file_path, 'r') as f:\n",
    "        for line in f:\n",
    "            info = line.strip('\\n').split(',')\n",
    "            # label is the first column\n",
    "            X.append([float(i) for i in info[1:]])\n",
    "            y.append(float(info[0]))\n",
    "    X = np.array(X)\n",
    "    y = np.array(y)\n",
    "    # change the output to *-1 and 1* instead of *0 and 1*\n",
    "    #y[y == 0] = -1\n",
    "    return X, y"
   ]
  },
  {
   "cell_type": "code",
   "execution_count": 3,
   "metadata": {
    "collapsed": true
   },
   "outputs": [],
   "source": [
    "# read in the data\n",
    "X_train, y_train = read_in('./hw2_data/wdbc_train.data') \n",
    "X_valid, y_valid = read_in('./hw2_data/wdbc_valid.data')\n",
    "X_test, y_test = read_in('./hw2_data/wdbc_test.data')"
   ]
  },
  {
   "cell_type": "code",
   "execution_count": 4,
   "metadata": {},
   "outputs": [
    {
     "name": "stdout",
     "output_type": "stream",
     "text": [
      "(336, 10)\n",
      "(336,)\n"
     ]
    }
   ],
   "source": [
    "print(X_train.shape)\n",
    "print(y_train.shape)"
   ]
  },
  {
   "cell_type": "markdown",
   "metadata": {},
   "source": [
    "### Train the Primal SVM classifier"
   ]
  },
  {
   "cell_type": "code",
   "execution_count": 5,
   "metadata": {
    "collapsed": true
   },
   "outputs": [],
   "source": [
    "# parameters\n",
    "D = X_train.shape[1] # number of features\n",
    "N = X_train.shape[0] # number of samples\n",
    "c = 1"
   ]
  },
  {
   "cell_type": "code",
   "execution_count": 6,
   "metadata": {
    "collapsed": true
   },
   "outputs": [],
   "source": [
    "def svm_primal_train(X, y, c=1):\n",
    "    D = X.shape[1]\n",
    "    W = cvx.Variable(D)\n",
    "    b = cvx.Variable()\n",
    "    loss = (0.5*cvx.sum_squares(W) +\n",
    "            c*cvx.sum_entries(cvx.pos(1 - cvx.mul_elemwise(y, X*W + b))))\n",
    "    # need to minimize loss/N to avoid error\n",
    "    prob = cvx.Problem(cvx.Minimize(loss/N))\n",
    "    prob.solve(solver=None)\n",
    "    return W.value, b.value\n",
    "\n",
    "def predict(W, b, X):\n",
    "    preds = np.dot(X, W) + b\n",
    "    preds[preds >= 0] = 1\n",
    "    preds[preds < 0] = -1\n",
    "    return preds\n",
    "\n",
    "def accuracy(y_pred, y_truth):\n",
    "    return np.mean(y_pred == y_truth)"
   ]
  },
  {
   "cell_type": "code",
   "execution_count": 7,
   "metadata": {},
   "outputs": [
    {
     "name": "stdout",
     "output_type": "stream",
     "text": [
      "c = 1 ; accuracy: 0.527058823529\n",
      "c = 10 ; accuracy: 0.524705882353\n",
      "c = 100 ; accuracy: 0.524705882353\n",
      "c = 1000 ; accuracy: 0.524705882353\n",
      "c = 10000 ; accuracy: 0.517647058824\n",
      "c = 100000 ; accuracy: 0.517647058824\n",
      "c = 1000000 ; accuracy: 0.517647058824\n",
      "c = 10000000 ; accuracy: 0.517647058824\n",
      "c = 100000000 ; accuracy: 0.517647058824\n",
      "Best C: 1\n",
      "Best validation accuracy: 0.527058823529\n"
     ]
    }
   ],
   "source": [
    "best_valid_acc = -1\n",
    "best_c = -1\n",
    "c_test = [10**i for i in range(9)]\n",
    "for c in c_test:\n",
    "    W, b = svm_primal_train(X_train, y_train, c=c)\n",
    "    pred = predict(W, b, X_valid)\n",
    "    acc = accuracy(pred, y_valid)\n",
    "    print('c =', c, ';', 'accuracy:', acc)\n",
    "    if acc > best_valid_acc:\n",
    "        best_valid_acc = acc\n",
    "        best_c = c\n",
    "\n",
    "print(\"Best C:\", best_c)\n",
    "print(\"Best validation accuracy:\", best_valid_acc)"
   ]
  },
  {
   "cell_type": "markdown",
   "metadata": {},
   "source": [
    "### Test set accuracy"
   ]
  },
  {
   "cell_type": "code",
   "execution_count": 8,
   "metadata": {},
   "outputs": [
    {
     "name": "stdout",
     "output_type": "stream",
     "text": [
      "Train set accuracy: 0.528946995465\n",
      "Test set accuracy: 0.559349890431\n"
     ]
    }
   ],
   "source": [
    "W, b = svm_primal_train(X_train, y_train, c=1)\n",
    "\n",
    "pred = predict(W, b, X_train)\n",
    "acc = accuracy(pred, y_train)\n",
    "print(\"Train set accuracy:\", acc)\n",
    "\n",
    "pred = predict(W, b, X_test)\n",
    "acc = accuracy(pred, y_test)\n",
    "print(\"Test set accuracy:\", acc)"
   ]
  },
  {
   "cell_type": "markdown",
   "metadata": {},
   "source": [
    "### LinearSVC from sklearn"
   ]
  },
  {
   "cell_type": "code",
   "execution_count": 9,
   "metadata": {},
   "outputs": [
    {
     "name": "stdout",
     "output_type": "stream",
     "text": [
      "0.535714285714\n",
      "0.529411764706\n",
      "0.466216216216\n"
     ]
    }
   ],
   "source": [
    "from sklearn import svm\n",
    "clf = svm.LinearSVC(C=1)\n",
    "clf.fit(X_train, y_train)\n",
    "\n",
    "preds = clf.predict(X_train)\n",
    "print(np.mean(preds == y_train))\n",
    "\n",
    "preds = clf.predict(X_valid)\n",
    "print(np.mean(preds == y_valid))\n",
    "\n",
    "preds = clf.predict(X_test)\n",
    "print(np.mean(preds == y_test))"
   ]
  },
  {
   "cell_type": "markdown",
   "metadata": {},
   "source": [
    "### Dual SVM with Slack"
   ]
  },
  {
   "cell_type": "code",
   "execution_count": 30,
   "metadata": {
    "scrolled": true
   },
   "outputs": [
    {
     "name": "stdout",
     "output_type": "stream",
     "text": [
      "[  1.28700000e+01   1.95400000e+01   8.26700000e+01   5.09200000e+02\n",
      "   9.13600000e-02   7.88300000e-02   1.79700000e-02   2.09000000e-02\n",
      "   1.86100000e-01   6.34700000e-02]\n"
     ]
    }
   ],
   "source": [
    "y = y_train\n",
    "X = X_train\n",
    "print(X[5])"
   ]
  },
  {
   "cell_type": "code",
   "execution_count": 31,
   "metadata": {
    "collapsed": true
   },
   "outputs": [],
   "source": [
    "# parameters\n",
    "D = X_train.shape[1] # number of features\n",
    "N = X_train.shape[0] # number of samples\n",
    "c = 1\n",
    "sigma = 0.1"
   ]
  },
  {
   "cell_type": "code",
   "execution_count": 32,
   "metadata": {
    "collapsed": true
   },
   "outputs": [],
   "source": [
    "def gaussian_kernel(X, Z, sigma):\n",
    "    return np.exp(-np.dot((X-Z),(X-Z)) / (2*sigma**2))\n",
    "    # return np.exp(-1 * (np.linalg.norm(X-Z)**2 / (2*sigma**2)))"
   ]
  },
  {
   "cell_type": "code",
   "execution_count": 33,
   "metadata": {},
   "outputs": [
    {
     "name": "stdout",
     "output_type": "stream",
     "text": [
      "0.0\n",
      "14.880952380952381\n",
      "29.761904761904763\n",
      "44.642857142857146\n",
      "59.523809523809526\n",
      "74.40476190476191\n",
      "89.28571428571429\n"
     ]
    }
   ],
   "source": [
    "kernel_matrix = np.zeros((N, N))\n",
    "for i in range(N):\n",
    "    # print progress\n",
    "    if i % 50 == 0:\n",
    "        print(i/N * 100)\n",
    "    for j in range(N):\n",
    "        kernel_matrix[i, j] = gaussian_kernel(X[i], X[j], sigma)"
   ]
  },
  {
   "cell_type": "code",
   "execution_count": 34,
   "metadata": {
    "scrolled": false
   },
   "outputs": [
    {
     "name": "stdout",
     "output_type": "stream",
     "text": [
      "[ 0.  0.  0.  0.  0.  0.  0.  0.  1.  0.  0.  0.  0.  0.  0.  0.  0.  0.\n",
      "  0.  0.  0.  0.  0.  0.  0.  0.  0.  0.  0.  0.  0.  0.  0.  0.  0.  0.\n",
      "  0.  0.  0.  0.  0.  0.  0.  0.  0.  0.  0.  0.  0.  0.  0.  0.  0.  0.\n",
      "  0.  0.  0.  0.  0.  0.  0.  0.  0.  0.  0.  0.  0.  0.  0.  0.  0.  0.\n",
      "  0.  0.  0.  0.  0.  0.  0.  0.  0.  0.  0.  0.  0.  0.  0.  0.  0.  0.\n",
      "  0.  0.  0.  0.  0.  0.  0.  0.  0.  0.  0.  0.  0.  0.  0.  0.  0.  0.\n",
      "  0.  0.  0.  0.  0.  0.  0.  0.  0.  0.  0.  0.  0.  0.  0.  0.  0.  0.\n",
      "  0.  0.  0.  0.  0.  0.  0.  0.  0.  0.  0.  0.  0.  0.  0.  0.  0.  0.\n",
      "  0.  0.  0.  0.  0.  0.  0.  0.  0.  0.  0.  0.  0.  0.  0.  0.  0.  0.\n",
      "  0.  0.  0.  0.  0.  0.  0.  0.  0.  0.  0.  0.  0.  0.  0.  0.  0.  0.\n",
      "  0.  0.  0.  0.  0.  0.  0.  0.  0.  0.  0.  0.  0.  0.  0.  0.  0.  0.\n",
      "  0.  0.  0.  0.  0.  0.  0.  0.  0.  0.  0.  0.  0.  0.  0.  0.  0.  0.\n",
      "  0.  0.  0.  0.  0.  0.  0.  0.  0.  0.  0.  0.  0.  0.  0.  0.  0.  0.\n",
      "  0.  0.  0.  0.  0.  0.  0.  0.  0.  0.  0.  0.  0.  0.  0.  0.  0.  0.\n",
      "  0.  0.  0.  0.  0.  0.  0.  0.  0.  0.  0.  0.  0.  0.  0.  0.  0.  0.\n",
      "  0.  0.  0.  0.  0.  0.  0.  0.  0.  0.  0.  0.  0.  0.  0.  0.  0.  0.\n",
      "  0.  0.  0.  0.  0.  0.  0.  0.  0.  0.  0.  0.  0.  0.  0.  0.  0.  0.\n",
      "  0.  0.  0.  0.  0.  0.  0.  0.  0.  0.  0.  0.  0.  0.  0.  0.  0.  0.\n",
      "  0.  0.  0.  0.  0.  0.  0.  0.  0.  0.  0.  0.]\n"
     ]
    }
   ],
   "source": [
    "print(kernel_matrix[8])\n",
    "# for each in kernel_matrix[450]:\n",
    "#     print(each)"
   ]
  },
  {
   "cell_type": "code",
   "execution_count": 35,
   "metadata": {
    "collapsed": true
   },
   "outputs": [],
   "source": [
    "Delta = cvx.Variable(N) # Lagrangian multipliers\n",
    "\n",
    "first_term = cvx.quad_form(cvx.mul_elemwise(y, Delta), kernel_matrix)\n",
    "# for i in range(N):\n",
    "#     for j in range(N):\n",
    "#         print(i, j)\n",
    "#         first_term += Delta[i]*Delta[j]*y[i]*y[j]*gaussian_kernel(X[i], X[j], sigma)\n",
    "        # first_term += y[i]*y[j]*gaussian_kernel(X[i], X[j], sigma)\n",
    "# print('Done')\n",
    "\n",
    "second_term = cvx.sum_entries(Delta)        \n",
    "# for i in range(N):\n",
    "#     second_term += Delta[1]\n",
    "    \n",
    "loss = -0.5*first_term + second_term\n"
   ]
  },
  {
   "cell_type": "code",
   "execution_count": 36,
   "metadata": {
    "collapsed": true
   },
   "outputs": [],
   "source": [
    "# constraints\n",
    "constraints = [Delta >= 0, Delta <= c]\n",
    "# for i in range(N):\n",
    "#     constraints.append(Delta[i] >= 0)\n",
    "#     constraints.append(Delta[i] <= c)\n",
    "dual_sum = cvx.sum_entries(cvx.mul_elemwise(y, Delta))\n",
    "constraints.append(dual_sum == 0)"
   ]
  },
  {
   "cell_type": "code",
   "execution_count": 37,
   "metadata": {
    "collapsed": true
   },
   "outputs": [],
   "source": [
    "prob = cvx.Problem(cvx.Maximize(loss), constraints)"
   ]
  },
  {
   "cell_type": "code",
   "execution_count": 38,
   "metadata": {},
   "outputs": [
    {
     "name": "stdout",
     "output_type": "stream",
     "text": [
      "\n",
      "ECOS 2.0.4 - (C) embotech GmbH, Zurich Switzerland, 2012-15. Web: www.embotech.com/ECOS\n",
      "\n",
      "It     pcost       dcost      gap   pres   dres    k/t    mu     step   sigma     IR    |   BT\n",
      " 0  -1.600e+03  -7.709e+03  +8e+03  9e-02  1e-03  1e+00  1e+01    ---    ---    1  1  - |  -  - \n",
      " 1  -2.103e+03  -5.512e+03  +5e+03  5e-02  8e-04  2e+00  7e+00  0.5005  2e-01   2  2  2 |  0  0\n",
      " 2  -2.000e+03  -5.563e+03  +5e+03  5e-02  3e-04  2e+00  7e+00  0.0306  9e-01   2  2  2 |  0  0\n",
      " 3  -2.298e+03  -3.762e+03  +2e+03  2e-02  9e-05  2e+00  3e+00  0.8127  3e-01   2  2  2 |  0  0\n",
      " 4  -2.199e+03  -3.923e+03  +2e+03  3e-02  3e-05  3e+00  3e+00  0.0903  8e-01   2  2  3 |  0  0\n",
      " 5  -2.078e+03  -2.909e+03  +1e+03  1e-02  2e-05  2e+00  2e+00  0.9890  5e-01   3  2  1 |  0  0\n",
      " 6  -1.796e+03  -2.455e+03  +5e+02  1e-02  5e-06  2e+00  8e-01  0.7234  3e-01   2  2  2 |  0  0\n",
      " 7  -1.592e+03  -1.894e+03  +2e+02  6e-03  2e-06  1e+00  3e-01  0.6940  2e-01   3  3  2 |  0  0\n",
      " 8  -1.603e+03  -2.211e+03  +2e+02  2e-02  3e-06  3e+00  3e-01  0.6656  7e-01   3  3  3 |  0  0\n",
      " 9  -1.308e+03  -1.771e+03  +1e+02  1e-02  2e-06  3e+00  2e-01  0.3789  3e-01   3  4  3 |  0  0\n",
      "10  -1.108e+03  -1.327e+03  +1e+02  5e-03  1e-06  9e-01  2e-01  0.9890  8e-01   3  3  3 |  0  0\n",
      "11  -4.237e+02  -5.051e+02  +2e+01  2e-03  4e-07  9e-01  3e-02  0.8469  4e-02   3  3  3 |  0  0\n",
      "12  -2.079e+02  -2.174e+02  +2e+00  3e-04  4e-08  4e-02  3e-03  0.9300  5e-02   3  3  3 |  0  0\n",
      "13  -1.610e+02  -1.614e+02  +1e-01  1e-05  2e-09  2e-03  2e-04  0.9498  8e-03   3  3  3 |  0  0\n",
      "14  -1.597e+02  -1.598e+02  +2e-02  3e-06  4e-10  4e-04  3e-05  0.8422  3e-02   3  2  2 |  0  0\n",
      "15  -1.594e+02  -1.594e+02  +9e-04  1e-07  1e-11  2e-05  1e-06  0.9865  3e-02   2  1  1 |  0  0\n",
      "16  -1.594e+02  -1.594e+02  +1e-05  1e-09  3e-13  3e-07  2e-08  0.9868  1e-04   1  1  1 |  0  0\n",
      "17  -1.594e+02  -1.594e+02  +2e-07  2e-11  3e-14  5e-09  3e-10  0.9844  1e-04   1  1  1 |  0  0\n",
      "\n",
      "OPTIMAL (within feastol=2.2e-11, reltol=1.2e-09, abstol=1.8e-07).\n",
      "Runtime: 0.571927 seconds.\n",
      "\n"
     ]
    },
    {
     "data": {
      "text/plain": [
       "159.40476489464115"
      ]
     },
     "execution_count": 38,
     "metadata": {},
     "output_type": "execute_result"
    }
   ],
   "source": [
    "prob.solve(verbose=True)"
   ]
  },
  {
   "cell_type": "code",
   "execution_count": 39,
   "metadata": {},
   "outputs": [
    {
     "name": "stdout",
     "output_type": "stream",
     "text": [
      "[[  7.32747196e-15]]\n"
     ]
    }
   ],
   "source": [
    "test_sum = 0\n",
    "for i, val in enumerate(Delta.value):\n",
    "    test_sum += val * y[i]\n",
    "print(test_sum)"
   ]
  },
  {
   "cell_type": "code",
   "execution_count": 40,
   "metadata": {},
   "outputs": [
    {
     "name": "stdout",
     "output_type": "stream",
     "text": [
      "[[ 0.7738046 ]\n",
      " [ 1.22618274]\n",
      " [ 1.22618286]\n",
      " [ 0.77380459]\n",
      " [ 0.7738046 ]\n",
      " [ 0.7738046 ]\n",
      " [ 0.7738046 ]\n",
      " [ 0.77380459]\n",
      " [ 0.7738046 ]\n",
      " [ 1.22618286]\n",
      " [ 1.22618269]\n",
      " [ 0.7738046 ]\n",
      " [ 0.77380459]\n",
      " [ 1.22618286]\n",
      " [ 0.7738046 ]\n",
      " [ 0.7738046 ]\n",
      " [ 0.7738046 ]\n",
      " [ 1.22618286]\n",
      " [ 0.7738046 ]\n",
      " [ 0.7738046 ]\n",
      " [ 1.22618228]\n",
      " [ 0.7738046 ]\n",
      " [ 0.7738046 ]\n",
      " [ 1.22618286]\n",
      " [ 0.77380459]\n",
      " [ 0.77380459]\n",
      " [ 1.22618228]\n",
      " [ 0.77380459]\n",
      " [ 0.7738046 ]\n",
      " [ 0.77380459]\n",
      " [ 1.22618243]\n",
      " [ 0.77380459]\n",
      " [ 1.22618286]\n",
      " [ 1.22618286]\n",
      " [ 0.7738046 ]\n",
      " [ 0.7738046 ]\n",
      " [ 0.77380459]\n",
      " [ 1.22618259]\n",
      " [ 1.22618229]\n",
      " [ 0.77380459]\n",
      " [ 0.7738046 ]\n",
      " [ 0.7738046 ]\n",
      " [ 1.22618245]\n",
      " [ 0.7738046 ]\n",
      " [ 1.22618286]\n",
      " [ 1.22618268]\n",
      " [ 0.7738046 ]\n",
      " [ 1.22618282]\n",
      " [ 0.7738046 ]\n",
      " [ 0.7738046 ]\n",
      " [ 0.7738046 ]\n",
      " [ 1.22618286]\n",
      " [ 1.2261828 ]\n",
      " [ 0.7738046 ]\n",
      " [ 0.7738046 ]\n",
      " [ 1.22618286]\n",
      " [ 0.7738046 ]\n",
      " [ 0.7738046 ]\n",
      " [ 0.7738046 ]\n",
      " [ 1.22618286]\n",
      " [ 1.22618286]\n",
      " [ 0.7738046 ]\n",
      " [ 0.7738046 ]\n",
      " [ 1.22618286]\n",
      " [ 1.22618286]\n",
      " [ 1.22618286]\n",
      " [ 1.22618286]\n",
      " [ 0.7738046 ]\n",
      " [ 0.7738046 ]\n",
      " [ 1.22618286]\n",
      " [ 0.7738046 ]\n",
      " [ 0.7738046 ]\n",
      " [ 0.77380459]\n",
      " [ 1.22618228]\n",
      " [ 1.22618228]\n",
      " [ 1.22618228]\n",
      " [ 0.77380459]\n",
      " [ 0.77380459]\n",
      " [ 0.77380459]\n",
      " [ 0.7738046 ]\n",
      " [ 0.77380459]\n",
      " [ 0.77380459]\n",
      " [ 1.22618228]\n",
      " [ 1.22618286]\n",
      " [ 1.22618228]\n",
      " [ 1.22618228]\n",
      " [ 0.77380459]\n",
      " [ 0.7738046 ]\n",
      " [ 0.7738046 ]\n",
      " [ 0.77380459]\n",
      " [ 1.22618228]\n",
      " [ 1.22618245]\n",
      " [ 1.22618242]\n",
      " [ 1.22618234]\n",
      " [ 0.7738046 ]\n",
      " [ 1.22618239]\n",
      " [ 1.22618275]\n",
      " [ 0.77380459]\n",
      " [ 0.77380459]\n",
      " [ 1.22618263]\n",
      " [ 0.7738046 ]\n",
      " [ 0.7738046 ]\n",
      " [ 0.7738046 ]\n",
      " [ 1.22618261]\n",
      " [ 1.22618267]\n",
      " [ 0.7738046 ]\n",
      " [ 1.22618265]\n",
      " [ 1.22618259]\n",
      " [ 1.22618278]\n",
      " [ 0.7738046 ]\n",
      " [ 0.7738046 ]\n",
      " [ 0.7738046 ]\n",
      " [ 0.7738046 ]\n",
      " [ 0.7738046 ]\n",
      " [ 0.7738046 ]\n",
      " [ 0.7738046 ]\n",
      " [ 1.22618268]\n",
      " [ 1.22618286]\n",
      " [ 0.7738046 ]\n",
      " [ 0.77380459]\n",
      " [ 0.7738046 ]\n",
      " [ 0.7738046 ]\n",
      " [ 0.77380459]\n",
      " [ 1.22618271]\n",
      " [ 0.77380459]\n",
      " [ 0.7738046 ]\n",
      " [ 0.77380459]\n",
      " [ 0.77380459]\n",
      " [ 1.22618265]\n",
      " [ 0.77380459]\n",
      " [ 1.22618257]\n",
      " [ 1.2261828 ]\n",
      " [ 1.22618286]\n",
      " [ 0.7738046 ]\n",
      " [ 0.7738046 ]\n",
      " [ 1.22618286]\n",
      " [ 0.77380459]\n",
      " [ 0.77380459]\n",
      " [ 0.77380459]\n",
      " [ 1.22618285]\n",
      " [ 1.22618264]\n",
      " [ 0.77380459]\n",
      " [ 0.77380459]\n",
      " [ 1.22618286]\n",
      " [ 1.22618259]\n",
      " [ 0.7738046 ]\n",
      " [ 0.7738046 ]\n",
      " [ 1.22618286]\n",
      " [ 0.7738046 ]\n",
      " [ 1.22618249]\n",
      " [ 1.22618276]\n",
      " [ 0.77380459]\n",
      " [ 0.77380459]\n",
      " [ 0.7738046 ]\n",
      " [ 0.7738046 ]\n",
      " [ 0.7738046 ]\n",
      " [ 1.22618286]\n",
      " [ 0.7738046 ]\n",
      " [ 1.22618285]\n",
      " [ 0.77380459]\n",
      " [ 0.7738046 ]\n",
      " [ 0.77380459]\n",
      " [ 1.22618247]\n",
      " [ 0.77380459]\n",
      " [ 0.77380459]\n",
      " [ 0.77380459]\n",
      " [ 1.22618262]\n",
      " [ 1.22618262]\n",
      " [ 0.77380459]\n",
      " [ 0.7738046 ]\n",
      " [ 0.7738046 ]\n",
      " [ 0.77380459]\n",
      " [ 1.22618282]\n",
      " [ 0.77380459]\n",
      " [ 1.22618259]\n",
      " [ 0.7738046 ]\n",
      " [ 0.77380459]\n",
      " [ 0.77380459]\n",
      " [ 0.7738046 ]\n",
      " [ 0.7738046 ]\n",
      " [ 0.7738046 ]\n",
      " [ 1.22618286]\n",
      " [ 1.22618243]\n",
      " [ 0.7738046 ]\n",
      " [ 0.77380459]\n",
      " [ 0.7738046 ]\n",
      " [ 1.22618274]\n",
      " [ 0.77380459]\n",
      " [ 1.22618274]\n",
      " [ 1.2261828 ]\n",
      " [ 0.7738046 ]\n",
      " [ 0.77380459]\n",
      " [ 0.77380459]\n",
      " [ 1.22618277]\n",
      " [ 1.22618265]\n",
      " [ 0.77380459]\n",
      " [ 1.22618277]\n",
      " [ 0.7738046 ]\n",
      " [ 1.22618274]\n",
      " [ 1.22618286]\n",
      " [ 1.22618277]\n",
      " [ 0.7738046 ]\n",
      " [ 1.22618271]\n",
      " [ 0.77380459]\n",
      " [ 0.77380459]\n",
      " [ 1.22618284]\n",
      " [ 0.7738046 ]\n",
      " [ 0.77380459]\n",
      " [ 0.77380459]\n",
      " [ 1.22618286]\n",
      " [ 0.7738046 ]\n",
      " [ 1.22618259]\n",
      " [ 0.77380459]\n",
      " [ 1.22618286]\n",
      " [ 1.22618266]\n",
      " [ 0.77380459]\n",
      " [ 1.22618254]\n",
      " [ 1.2261826 ]\n",
      " [ 0.77380459]\n",
      " [ 0.77380459]\n",
      " [ 0.77380459]\n",
      " [ 0.7738046 ]\n",
      " [ 0.7738046 ]\n",
      " [ 0.77380459]\n",
      " [ 0.7738046 ]\n",
      " [ 1.22618259]\n",
      " [ 0.77380459]\n",
      " [ 0.7738046 ]\n",
      " [ 0.7738046 ]\n",
      " [ 0.77380459]\n",
      " [ 1.2261825 ]\n",
      " [ 1.2261825 ]\n",
      " [ 0.7738046 ]\n",
      " [ 0.77380459]\n",
      " [ 0.77380459]\n",
      " [ 1.22618228]\n",
      " [ 1.22618247]\n",
      " [ 1.22618286]\n",
      " [ 1.22618249]\n",
      " [ 0.7738046 ]\n",
      " [ 0.7738046 ]\n",
      " [ 1.22618237]\n",
      " [ 0.77380459]\n",
      " [ 0.77380459]\n",
      " [ 0.7738046 ]\n",
      " [ 1.22618244]\n",
      " [ 1.22618243]\n",
      " [ 0.7738046 ]\n",
      " [ 1.22618244]\n",
      " [ 0.77380459]\n",
      " [ 1.22618276]\n",
      " [ 0.7738046 ]\n",
      " [ 0.7738046 ]\n",
      " [ 0.7738046 ]\n",
      " [ 0.7738046 ]\n",
      " [ 0.77380459]\n",
      " [ 0.7738046 ]\n",
      " [ 0.7738046 ]\n",
      " [ 1.22618229]\n",
      " [ 1.22618286]\n",
      " [ 1.22618228]\n",
      " [ 0.7738046 ]\n",
      " [ 1.22618245]\n",
      " [ 1.22618266]\n",
      " [ 0.7738046 ]\n",
      " [ 0.7738046 ]\n",
      " [ 0.7738046 ]\n",
      " [ 1.22618236]\n",
      " [ 0.7738046 ]\n",
      " [ 0.77380459]\n",
      " [ 0.77380459]\n",
      " [ 1.22618246]\n",
      " [ 1.22618271]\n",
      " [ 1.22618254]\n",
      " [ 0.7738046 ]\n",
      " [ 0.7738046 ]\n",
      " [ 0.77380459]\n",
      " [ 1.22618258]\n",
      " [ 0.77380459]\n",
      " [ 1.22618282]\n",
      " [ 0.77380459]\n",
      " [ 1.22618278]\n",
      " [ 0.7738046 ]\n",
      " [ 0.7738046 ]\n",
      " [ 0.7738046 ]\n",
      " [ 0.7738046 ]\n",
      " [ 0.77380459]\n",
      " [ 0.77380459]\n",
      " [ 0.77380459]\n",
      " [ 1.22618278]\n",
      " [ 1.22618286]\n",
      " [ 0.7738046 ]\n",
      " [ 0.7738046 ]\n",
      " [ 1.2261828 ]\n",
      " [ 1.22618286]\n",
      " [ 1.22618273]\n",
      " [ 0.7738046 ]\n",
      " [ 1.22618286]\n",
      " [ 0.77380459]\n",
      " [ 0.7738046 ]\n",
      " [ 0.7738046 ]\n",
      " [ 1.22618279]\n",
      " [ 1.22618263]\n",
      " [ 0.7738046 ]\n",
      " [ 0.7738046 ]\n",
      " [ 0.7738046 ]\n",
      " [ 0.7738046 ]\n",
      " [ 0.7738046 ]\n",
      " [ 0.7738046 ]\n",
      " [ 1.22618286]\n",
      " [ 0.7738046 ]\n",
      " [ 0.77380459]\n",
      " [ 0.7738046 ]\n",
      " [ 0.7738046 ]\n",
      " [ 1.22618286]\n",
      " [ 1.22618286]\n",
      " [ 0.7738046 ]\n",
      " [ 0.7738046 ]\n",
      " [ 0.7738046 ]\n",
      " [ 0.7738046 ]\n",
      " [ 1.22618266]\n",
      " [ 1.22618263]\n",
      " [ 0.7738046 ]\n",
      " [ 0.7738046 ]\n",
      " [ 0.7738046 ]\n",
      " [ 0.7738046 ]\n",
      " [ 0.7738046 ]\n",
      " [ 0.7738046 ]\n",
      " [ 0.7738046 ]\n",
      " [ 1.22618286]\n",
      " [ 1.22618286]\n",
      " [ 1.22618286]\n",
      " [ 0.7738046 ]\n",
      " [ 1.22618286]\n",
      " [ 0.7738046 ]\n",
      " [ 1.22618286]]\n"
     ]
    }
   ],
   "source": [
    "print(Delta.value)"
   ]
  },
  {
   "cell_type": "code",
   "execution_count": 41,
   "metadata": {
    "scrolled": true
   },
   "outputs": [
    {
     "name": "stdout",
     "output_type": "stream",
     "text": [
      "support vector idx: 0\n",
      "[[ 0.7738046]]\n",
      "bias = [[-0.2261954]]\n"
     ]
    }
   ],
   "source": [
    "# Make prediction\n",
    "# first, finding the bias term\n",
    "bias = None\n",
    "for i in range(N):\n",
    "    if (not np.isclose(c, Delta.value[i])) and (not np.isclose(Delta.value[i], 0)):\n",
    "        print('support vector idx:', i)\n",
    "        print(Delta.value[i])\n",
    "        result = 0\n",
    "        for j in range(N):\n",
    "            result += Delta.value[j]*y[j]*gaussian_kernel(X[i],X[j],sigma)\n",
    "        bias = y[i] - result\n",
    "        print('bias =', y[i] - result)\n",
    "        break"
   ]
  },
  {
   "cell_type": "code",
   "execution_count": 42,
   "metadata": {
    "collapsed": true,
    "scrolled": true
   },
   "outputs": [],
   "source": [
    "import random\n",
    "# preds = np.sum(np.dot(X_test, (Delta.value*y*X_train).T), axis=1) + b \n",
    "preds = np.zeros(X_test.shape[0])\n",
    "\n",
    "for i in range(X_test.shape[0]):\n",
    "    pred = 0\n",
    "    for j in range(N):\n",
    "        pred += Delta.value[j]*y[j]*gaussian_kernel(X_test[i],X[j],sigma)\n",
    "    # print(pred)\n",
    "    pred += bias\n",
    "    # print(pred)\n",
    "    if pred < 0 and (not np.isclose(pred, 0)):\n",
    "        preds[i] = -1\n",
    "    elif np.isclose(pred, 0):\n",
    "        preds[i] = random.choice([1, -1])\n",
    "    else:\n",
    "        preds[i] = 1\n"
   ]
  },
  {
   "cell_type": "code",
   "execution_count": 43,
   "metadata": {},
   "outputs": [
    {
     "name": "stdout",
     "output_type": "stream",
     "text": [
      "[-1. -1. -1. -1. -1. -1. -1. -1. -1. -1. -1. -1. -1. -1. -1. -1. -1. -1.\n",
      " -1. -1. -1. -1. -1. -1. -1. -1. -1. -1. -1. -1. -1. -1. -1. -1. -1. -1.\n",
      " -1. -1. -1. -1. -1. -1. -1. -1. -1. -1. -1. -1. -1. -1. -1. -1. -1. -1.\n",
      " -1. -1. -1. -1. -1. -1. -1. -1. -1. -1. -1. -1. -1. -1. -1. -1. -1. -1.\n",
      " -1. -1. -1. -1. -1. -1. -1. -1. -1. -1. -1. -1. -1. -1. -1. -1. -1. -1.\n",
      " -1. -1. -1. -1. -1. -1. -1. -1. -1. -1. -1. -1. -1. -1. -1. -1. -1. -1.\n",
      " -1. -1. -1. -1. -1. -1. -1. -1. -1. -1. -1. -1. -1. -1. -1. -1. -1. -1.\n",
      " -1. -1. -1. -1. -1. -1. -1. -1. -1. -1. -1. -1. -1. -1. -1. -1. -1. -1.\n",
      " -1. -1. -1. -1.]\n"
     ]
    }
   ],
   "source": [
    "print(preds)"
   ]
  },
  {
   "cell_type": "code",
   "execution_count": 27,
   "metadata": {},
   "outputs": [
    {
     "name": "stdout",
     "output_type": "stream",
     "text": [
      "0.675675675676\n"
     ]
    }
   ],
   "source": [
    "print(np.mean(preds == y_test))"
   ]
  },
  {
   "cell_type": "markdown",
   "metadata": {
    "collapsed": true
   },
   "source": [
    "#### This is just one combination of c and sigma, I need to try every combination"
   ]
  },
  {
   "cell_type": "code",
   "execution_count": 45,
   "metadata": {
    "collapsed": true
   },
   "outputs": [],
   "source": [
    "# test on training set\n",
    "import random\n",
    "# preds = np.sum(np.dot(X_test, (Delta.value*y*X_train).T), axis=1) + b \n",
    "preds = np.zeros(X.shape[0])\n",
    "\n",
    "for i in range(X.shape[0]):\n",
    "    pred = 0\n",
    "    for j in range(N):\n",
    "        pred += Delta.value[j]*y[j]*gaussian_kernel(X[i],X[j],sigma)\n",
    "    # print(pred)\n",
    "    pred += bias\n",
    "    # print(pred)\n",
    "    if pred < 0 and (not np.isclose(pred, 0)):\n",
    "        preds[i] = -1\n",
    "    elif np.isclose(pred, 0):\n",
    "        preds[i] = random.choice([1, -1])\n",
    "    else:\n",
    "        preds[i] = 1"
   ]
  },
  {
   "cell_type": "code",
   "execution_count": 46,
   "metadata": {},
   "outputs": [
    {
     "name": "stdout",
     "output_type": "stream",
     "text": [
      "[-1.  1.  1. -1. -1. -1. -1. -1. -1.  1.  1. -1. -1.  1. -1. -1. -1.  1.\n",
      " -1. -1.  1. -1. -1.  1. -1. -1.  1. -1. -1. -1.  1. -1.  1.  1. -1. -1.\n",
      " -1.  1.  1. -1. -1. -1.  1. -1.  1.  1. -1.  1. -1. -1. -1.  1.  1. -1.\n",
      " -1.  1. -1. -1. -1.  1.  1. -1. -1.  1.  1.  1.  1. -1. -1.  1. -1. -1.\n",
      " -1.  1.  1.  1. -1. -1. -1. -1. -1. -1.  1.  1.  1.  1. -1. -1. -1. -1.\n",
      "  1.  1.  1.  1. -1.  1.  1. -1. -1.  1. -1. -1. -1.  1.  1. -1.  1.  1.\n",
      "  1. -1. -1. -1. -1. -1. -1. -1.  1.  1. -1. -1. -1. -1. -1.  1. -1. -1.\n",
      " -1. -1.  1. -1.  1.  1.  1. -1. -1.  1. -1. -1. -1.  1.  1. -1. -1.  1.\n",
      "  1. -1. -1.  1. -1.  1.  1. -1. -1. -1. -1. -1.  1. -1.  1. -1. -1. -1.\n",
      "  1. -1. -1. -1.  1.  1. -1. -1. -1. -1.  1. -1.  1. -1. -1. -1. -1. -1.\n",
      " -1.  1.  1. -1. -1. -1.  1. -1.  1.  1. -1. -1. -1.  1.  1. -1.  1. -1.\n",
      "  1.  1.  1. -1.  1. -1. -1.  1. -1. -1. -1.  1. -1.  1. -1.  1.  1. -1.\n",
      "  1.  1. -1. -1. -1. -1. -1. -1. -1.  1. -1. -1. -1. -1.  1.  1. -1. -1.\n",
      " -1.  1.  1.  1.  1. -1. -1.  1. -1. -1. -1.  1.  1. -1.  1. -1.  1. -1.\n",
      " -1. -1. -1. -1. -1. -1.  1.  1.  1. -1.  1.  1. -1. -1. -1.  1. -1. -1.\n",
      " -1.  1.  1.  1. -1. -1. -1.  1. -1.  1. -1.  1. -1. -1. -1. -1. -1. -1.\n",
      " -1.  1.  1. -1. -1.  1.  1.  1. -1.  1. -1. -1. -1.  1.  1. -1. -1. -1.\n",
      " -1. -1. -1.  1. -1. -1. -1. -1.  1.  1. -1. -1. -1. -1.  1.  1. -1. -1.\n",
      " -1. -1. -1. -1. -1.  1.  1.  1. -1.  1. -1.  1.]\n"
     ]
    }
   ],
   "source": [
    "print(preds)"
   ]
  },
  {
   "cell_type": "code",
   "execution_count": 47,
   "metadata": {},
   "outputs": [
    {
     "name": "stdout",
     "output_type": "stream",
     "text": [
      "1.0\n"
     ]
    }
   ],
   "source": [
    "print(np.mean(preds == y))"
   ]
  },
  {
   "cell_type": "markdown",
   "metadata": {},
   "source": [
    "#### Good news\n",
    "It seems I have the right answer."
   ]
  },
  {
   "cell_type": "code",
   "execution_count": 2,
   "metadata": {},
   "outputs": [
    {
     "name": "stdout",
     "output_type": "stream",
     "text": [
      "-1\n",
      "0\n",
      "1\n",
      "2\n",
      "3\n"
     ]
    }
   ],
   "source": [
    "for i in range(-1,4):\n",
    "    print(i)"
   ]
  },
  {
   "cell_type": "code",
   "execution_count": null,
   "metadata": {
    "collapsed": true
   },
   "outputs": [],
   "source": []
  }
 ],
 "metadata": {
  "kernelspec": {
   "display_name": "Python 3",
   "language": "python",
   "name": "python3"
  },
  "language_info": {
   "codemirror_mode": {
    "name": "ipython",
    "version": 3
   },
   "file_extension": ".py",
   "mimetype": "text/x-python",
   "name": "python",
   "nbconvert_exporter": "python",
   "pygments_lexer": "ipython3",
   "version": "3.6.2"
  }
 },
 "nbformat": 4,
 "nbformat_minor": 2
}
